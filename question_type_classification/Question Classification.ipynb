{
 "cells": [
  {
   "cell_type": "code",
   "execution_count": 47,
   "id": "26f236f7",
   "metadata": {},
   "outputs": [],
   "source": [
    "import pandas as pd\n",
    "from sklearn.pipeline import make_pipeline\n",
    "from sklearn.feature_extraction.text import CountVectorizer as cv, TfidfTransformer as tfidf\n",
    "import contractions\n",
    "from collections import Counter\n",
    "import nltk\n",
    "from nltk.stem import WordNetLemmatizer\n",
    "# nltk.download('averaged_perceptron_tagger')\n",
    "# nltk.download('punkt')\n",
    "# nltk.download('wordnet')\n",
    "# nltk.download('omw-1.4')\n",
    "from nltk.corpus import wordnet\n",
    "from sklearn.naive_bayes import MultinomialNB\n",
    "import re\n",
    "from sklearn.model_selection import StratifiedShuffleSplit\n",
    "from sklearn.metrics import ConfusionMatrixDisplay, classification_report"
   ]
  },
  {
   "cell_type": "code",
   "execution_count": 2,
   "id": "a1d07c65",
   "metadata": {},
   "outputs": [],
   "source": [
    "df = pd.read_csv(\"./data.csv\")"
   ]
  },
  {
   "cell_type": "markdown",
   "id": "f585f52c",
   "metadata": {},
   "source": [
    "### Basic data analysis"
   ]
  },
  {
   "cell_type": "code",
   "execution_count": 3,
   "id": "8a43b2e8",
   "metadata": {},
   "outputs": [],
   "source": [
    "df.drop(\"Unnamed: 0\", axis=1, inplace=True)"
   ]
  },
  {
   "cell_type": "code",
   "execution_count": 4,
   "id": "b669c1bd",
   "metadata": {},
   "outputs": [
    {
     "data": {
      "text/html": [
       "<div>\n",
       "<style scoped>\n",
       "    .dataframe tbody tr th:only-of-type {\n",
       "        vertical-align: middle;\n",
       "    }\n",
       "\n",
       "    .dataframe tbody tr th {\n",
       "        vertical-align: top;\n",
       "    }\n",
       "\n",
       "    .dataframe thead th {\n",
       "        text-align: right;\n",
       "    }\n",
       "</style>\n",
       "<table border=\"1\" class=\"dataframe\">\n",
       "  <thead>\n",
       "    <tr style=\"text-align: right;\">\n",
       "      <th></th>\n",
       "      <th>Questions</th>\n",
       "      <th>Category0</th>\n",
       "      <th>Category1</th>\n",
       "      <th>Category2</th>\n",
       "    </tr>\n",
       "  </thead>\n",
       "  <tbody>\n",
       "    <tr>\n",
       "      <th>0</th>\n",
       "      <td>How did serfdom develop in and then leave Russ...</td>\n",
       "      <td>DESCRIPTION</td>\n",
       "      <td>DESC</td>\n",
       "      <td>manner</td>\n",
       "    </tr>\n",
       "    <tr>\n",
       "      <th>1</th>\n",
       "      <td>What films featured the character Popeye Doyle ?</td>\n",
       "      <td>ENTITY</td>\n",
       "      <td>ENTY</td>\n",
       "      <td>cremat</td>\n",
       "    </tr>\n",
       "    <tr>\n",
       "      <th>2</th>\n",
       "      <td>How can I find a list of celebrities ' real na...</td>\n",
       "      <td>DESCRIPTION</td>\n",
       "      <td>DESC</td>\n",
       "      <td>manner</td>\n",
       "    </tr>\n",
       "    <tr>\n",
       "      <th>3</th>\n",
       "      <td>What fowl grabs the spotlight after the Chines...</td>\n",
       "      <td>ENTITY</td>\n",
       "      <td>ENTY</td>\n",
       "      <td>animal</td>\n",
       "    </tr>\n",
       "    <tr>\n",
       "      <th>4</th>\n",
       "      <td>What is the full form of .com ?</td>\n",
       "      <td>ABBREVIATION</td>\n",
       "      <td>ABBR</td>\n",
       "      <td>exp</td>\n",
       "    </tr>\n",
       "  </tbody>\n",
       "</table>\n",
       "</div>"
      ],
      "text/plain": [
       "                                           Questions     Category0 Category1  \\\n",
       "0  How did serfdom develop in and then leave Russ...   DESCRIPTION      DESC   \n",
       "1   What films featured the character Popeye Doyle ?        ENTITY      ENTY   \n",
       "2  How can I find a list of celebrities ' real na...   DESCRIPTION      DESC   \n",
       "3  What fowl grabs the spotlight after the Chines...        ENTITY      ENTY   \n",
       "4                    What is the full form of .com ?  ABBREVIATION      ABBR   \n",
       "\n",
       "  Category2  \n",
       "0    manner  \n",
       "1    cremat  \n",
       "2    manner  \n",
       "3    animal  \n",
       "4       exp  "
      ]
     },
     "execution_count": 4,
     "metadata": {},
     "output_type": "execute_result"
    }
   ],
   "source": [
    "df.head()"
   ]
  },
  {
   "cell_type": "code",
   "execution_count": 5,
   "id": "f07e9eb6",
   "metadata": {},
   "outputs": [
    {
     "name": "stdout",
     "output_type": "stream",
     "text": [
      "<class 'pandas.core.frame.DataFrame'>\n",
      "RangeIndex: 5452 entries, 0 to 5451\n",
      "Data columns (total 4 columns):\n",
      " #   Column     Non-Null Count  Dtype \n",
      "---  ------     --------------  ----- \n",
      " 0   Questions  5452 non-null   object\n",
      " 1   Category0  5452 non-null   object\n",
      " 2   Category1  5452 non-null   object\n",
      " 3   Category2  5452 non-null   object\n",
      "dtypes: object(4)\n",
      "memory usage: 170.5+ KB\n"
     ]
    }
   ],
   "source": [
    "df.info()"
   ]
  },
  {
   "cell_type": "code",
   "execution_count": 6,
   "id": "487e3d2d",
   "metadata": {},
   "outputs": [
    {
     "name": "stdout",
     "output_type": "stream",
     "text": [
      "Category type 0: \n",
      " 6 ['DESCRIPTION' 'ENTITY' 'ABBREVIATION' 'HUMAN' 'NUMERIC' 'LOCATION']\n",
      "Category type 1: \n",
      " 6 ['DESC' 'ENTY' 'ABBR' 'HUM' 'NUM' 'LOC']\n",
      "Category type 2: \n",
      " 47 ['manner' 'cremat' 'animal' 'exp' 'ind' 'gr' 'title' 'def' 'date' 'reason'\n",
      " 'event' 'state' 'desc' 'count' 'other' 'letter' 'religion' 'food'\n",
      " 'country' 'color' 'termeq' 'city' 'body' 'dismed' 'mount' 'money'\n",
      " 'product' 'period' 'substance' 'sport' 'plant' 'techmeth' 'volsize'\n",
      " 'instru' 'abb' 'speed' 'word' 'lang' 'perc' 'code' 'dist' 'temp' 'symbol'\n",
      " 'ord' 'veh' 'weight' 'currency']\n"
     ]
    }
   ],
   "source": [
    "# count of target categories\n",
    "print(\"Category type 0: \\n\", df[\"Category0\"].nunique(), df[\"Category0\"].unique())\n",
    "print(\"Category type 1: \\n\", df[\"Category1\"].nunique(), df[\"Category1\"].unique())\n",
    "print(\"Category type 2: \\n\", df[\"Category2\"].nunique(), df[\"Category2\"].unique())"
   ]
  },
  {
   "cell_type": "code",
   "execution_count": 7,
   "id": "b0a49cfb",
   "metadata": {},
   "outputs": [],
   "source": [
    "# category 0 and category 1 are same, drop any 1\n",
    "df.drop(\"Category1\", axis=1, inplace=True)\n",
    "df = df.rename(columns={\"Category0\": \"Major\", \"Category2\": \"Minor\"})"
   ]
  },
  {
   "cell_type": "code",
   "execution_count": 8,
   "id": "700f40f2",
   "metadata": {},
   "outputs": [
    {
     "data": {
      "text/html": [
       "<div>\n",
       "<style scoped>\n",
       "    .dataframe tbody tr th:only-of-type {\n",
       "        vertical-align: middle;\n",
       "    }\n",
       "\n",
       "    .dataframe tbody tr th {\n",
       "        vertical-align: top;\n",
       "    }\n",
       "\n",
       "    .dataframe thead th {\n",
       "        text-align: right;\n",
       "    }\n",
       "</style>\n",
       "<table border=\"1\" class=\"dataframe\">\n",
       "  <thead>\n",
       "    <tr style=\"text-align: right;\">\n",
       "      <th></th>\n",
       "      <th>Questions</th>\n",
       "      <th>Major</th>\n",
       "      <th>Minor</th>\n",
       "    </tr>\n",
       "  </thead>\n",
       "  <tbody>\n",
       "    <tr>\n",
       "      <th>0</th>\n",
       "      <td>How did serfdom develop in and then leave Russ...</td>\n",
       "      <td>DESCRIPTION</td>\n",
       "      <td>manner</td>\n",
       "    </tr>\n",
       "    <tr>\n",
       "      <th>1</th>\n",
       "      <td>What films featured the character Popeye Doyle ?</td>\n",
       "      <td>ENTITY</td>\n",
       "      <td>cremat</td>\n",
       "    </tr>\n",
       "    <tr>\n",
       "      <th>2</th>\n",
       "      <td>How can I find a list of celebrities ' real na...</td>\n",
       "      <td>DESCRIPTION</td>\n",
       "      <td>manner</td>\n",
       "    </tr>\n",
       "    <tr>\n",
       "      <th>3</th>\n",
       "      <td>What fowl grabs the spotlight after the Chines...</td>\n",
       "      <td>ENTITY</td>\n",
       "      <td>animal</td>\n",
       "    </tr>\n",
       "    <tr>\n",
       "      <th>4</th>\n",
       "      <td>What is the full form of .com ?</td>\n",
       "      <td>ABBREVIATION</td>\n",
       "      <td>exp</td>\n",
       "    </tr>\n",
       "  </tbody>\n",
       "</table>\n",
       "</div>"
      ],
      "text/plain": [
       "                                           Questions         Major   Minor\n",
       "0  How did serfdom develop in and then leave Russ...   DESCRIPTION  manner\n",
       "1   What films featured the character Popeye Doyle ?        ENTITY  cremat\n",
       "2  How can I find a list of celebrities ' real na...   DESCRIPTION  manner\n",
       "3  What fowl grabs the spotlight after the Chines...        ENTITY  animal\n",
       "4                    What is the full form of .com ?  ABBREVIATION     exp"
      ]
     },
     "execution_count": 8,
     "metadata": {},
     "output_type": "execute_result"
    }
   ],
   "source": [
    "df.head()"
   ]
  },
  {
   "cell_type": "code",
   "execution_count": 9,
   "id": "6fe74974",
   "metadata": {},
   "outputs": [
    {
     "data": {
      "text/plain": [
       "Minor      Major       \n",
       "abb        ABBREVIATION     16\n",
       "animal     ENTITY          112\n",
       "body       ENTITY           16\n",
       "city       LOCATION        129\n",
       "code       NUMERIC           9\n",
       "color      ENTITY           40\n",
       "count      NUMERIC         363\n",
       "country    LOCATION        155\n",
       "cremat     ENTITY          207\n",
       "currency   ENTITY            4\n",
       "date       NUMERIC         218\n",
       "def        DESCRIPTION     421\n",
       "desc       DESCRIPTION     274\n",
       "           HUMAN            47\n",
       "dismed     ENTITY          103\n",
       "dist       NUMERIC          34\n",
       "event      ENTITY           56\n",
       "exp        ABBREVIATION     70\n",
       "food       ENTITY          103\n",
       "gr         HUMAN           189\n",
       "ind        HUMAN           962\n",
       "instru     ENTITY           10\n",
       "lang       ENTITY           16\n",
       "letter     ENTITY            9\n",
       "manner     DESCRIPTION     276\n",
       "money      NUMERIC          71\n",
       "mount      LOCATION         21\n",
       "ord        NUMERIC           6\n",
       "other      LOCATION        464\n",
       "           ENTITY          217\n",
       "           NUMERIC          52\n",
       "perc       NUMERIC          27\n",
       "period     NUMERIC          75\n",
       "plant      ENTITY           13\n",
       "product    ENTITY           42\n",
       "reason     DESCRIPTION     191\n",
       "religion   ENTITY            4\n",
       "speed      NUMERIC           9\n",
       "sport      ENTITY           62\n",
       "state      LOCATION         66\n",
       "substance  ENTITY           41\n",
       "symbol     ENTITY           11\n",
       "techmeth   ENTITY           38\n",
       "temp       NUMERIC           8\n",
       "termeq     ENTITY           93\n",
       "title      HUMAN            25\n",
       "veh        ENTITY           27\n",
       "volsize    NUMERIC          13\n",
       "weight     NUMERIC          11\n",
       "word       ENTITY           26\n",
       "Name: Major, dtype: int64"
      ]
     },
     "execution_count": 9,
     "metadata": {},
     "output_type": "execute_result"
    }
   ],
   "source": [
    "# groupby category 0 to organise category 1\n",
    "df.groupby('Minor')[\"Major\"].value_counts()"
   ]
  },
  {
   "cell_type": "code",
   "execution_count": 10,
   "id": "7423387c",
   "metadata": {},
   "outputs": [
    {
     "data": {
      "text/plain": [
       "<AxesSubplot:ylabel='Major'>"
      ]
     },
     "execution_count": 10,
     "metadata": {},
     "output_type": "execute_result"
    },
    {
     "data": {
      "image/png": "[encoded data removed]",
      "text/plain": [
       "<Figure size 432x288 with 1 Axes>"
      ]
     },
     "metadata": {},
     "output_type": "display_data"
    }
   ],
   "source": [
    "df.Major.value_counts(normalize=True).plot(kind=\"pie\")"
   ]
  },
  {
   "cell_type": "markdown",
   "id": "6e2fb8e7",
   "metadata": {},
   "source": [
    "1. There are 5452 records\n",
    "2. The major target has 6 different categories\n",
    "3. The minor target has 47 different categories\n",
    "4. The number of samples for the major class \"ABBREVIATION\" is much lower as compared to the number of samples for other major classes\n",
    "5. 2 minor classes - \"other\" and \"desc\" belong to more than one major classes. The other minor classes are unique to major classes. "
   ]
  },
  {
   "cell_type": "code",
   "execution_count": 11,
   "id": "ef44852d",
   "metadata": {},
   "outputs": [
    {
     "data": {
      "text/plain": [
       "0       How did serfdom develop in and then leave Russ...\n",
       "1        What films featured the character Popeye Doyle ?\n",
       "2       How can I find a list of celebrities ' real na...\n",
       "3       What fowl grabs the spotlight after the Chines...\n",
       "4                         What is the full form of .com ?\n",
       "                              ...                        \n",
       "5447              What 's the shape of a camel 's spine ?\n",
       "5448             What type of currency is used in China ?\n",
       "5449                      What is the temperature today ?\n",
       "5450                What is the temperature for cooking ?\n",
       "5451                 What currency is used in Australia ?\n",
       "Name: Questions, Length: 5452, dtype: object"
      ]
     },
     "execution_count": 11,
     "metadata": {},
     "output_type": "execute_result"
    }
   ],
   "source": [
    "df[\"Questions\"]"
   ]
  },
  {
   "cell_type": "markdown",
   "id": "44ccec67",
   "metadata": {},
   "source": [
    "### Text pre-processing\n",
    "1. The Questions text contain contractions. The contractions are separated by space, which is not usual. \n",
    "example: What 's the shape of a camel 's spine ?\n",
    "\n",
    "a. We have to fix the additional space in between\n",
    "\n",
    "b. We can attempt to normalize the contractions\n",
    "\n",
    "2. We can normalize the words by lemmatizing\n",
    "3. We can then remove the additional punctuations and only retain the valid words \n",
    "4. We can then count the frequency of words and use the most frequent prepositions as stopword filter\n",
    "\n",
    "We have to generate the stop words.\n",
    "\n",
    "Steps 3 and 4 can be done by the CountVectorizer.\n"
   ]
  },
  {
   "cell_type": "code",
   "execution_count": 12,
   "id": "6c5c73ce",
   "metadata": {},
   "outputs": [],
   "source": [
    "# attempt to get the stopwords\n",
    "# stop words have a very high frequency\n",
    "def pre_process(text):\n",
    "    # step 1\n",
    "    text = re.sub(r\"\\w+\\s\\'s\", lambda x: \"\".join(x[0].split()), text)\n",
    "    text = re.sub(r\"\\w+\\s\\'t\", lambda x: \"\".join(x[0].split()), text)\n",
    "    text = contractions.fix(text)\n",
    "    return text\n",
    "df[\"Questions_p1\"] = df[\"Questions\"].apply(lambda x: pre_process(x))"
   ]
  },
  {
   "cell_type": "code",
   "execution_count": 13,
   "id": "ff1c4a75",
   "metadata": {},
   "outputs": [],
   "source": [
    "lemmatizer = WordNetLemmatizer()\n",
    " \n",
    "def lemmatize_text(text):\n",
    "    ## referenced from geek for geeks:\n",
    "    ## https://www.geeksforgeeks.org/python-lemmatization-approaches-with-examples/\n",
    "    # Define function to lemmatize each word with its POS tag\n",
    "\n",
    "    # POS_TAGGER_FUNCTION : TYPE 1\n",
    "    def pos_tagger(nltk_tag):\n",
    "        if nltk_tag.startswith('J'):\n",
    "            return wordnet.ADJ\n",
    "        elif nltk_tag.startswith('V'):\n",
    "            return wordnet.VERB\n",
    "        elif nltk_tag.startswith('N'):\n",
    "            return wordnet.NOUN\n",
    "        elif nltk_tag.startswith('R'):\n",
    "            return wordnet.ADV\n",
    "        else:         \n",
    "            return None\n",
    "\n",
    "    # tokenize the sentence and find the POS tag for each token\n",
    "#     pos_tagged = nltk.pos_tag(nltk.word_tokenize(text)) \n",
    "    pos_tagged = nltk.pos_tag(text.split()) \n",
    "    \n",
    "    # we use our own pos_tagger function to make things simpler to understand.\n",
    "    wordnet_tagged = list(map(lambda x: (x[0], pos_tagger(x[1])), pos_tagged))\n",
    "    lemmatized_sentence = []\n",
    "    for word, tag in wordnet_tagged:\n",
    "        if tag is None:\n",
    "            # if there is no available tag, append the token as is\n",
    "            lemmatized_sentence.append(word)\n",
    "        else:       \n",
    "            # else use the tag to lemmatize the token\n",
    "            lemmatized_sentence.append(lemmatizer.lemmatize(word, tag))\n",
    "    return \" \".join(lemmatized_sentence)\n"
   ]
  },
  {
   "cell_type": "code",
   "execution_count": 14,
   "id": "dd164d8c",
   "metadata": {},
   "outputs": [],
   "source": [
    "df['Questions_p2'] = df[\"Questions_p1\"].apply(lambda x: lemmatize_text(x))"
   ]
  },
  {
   "cell_type": "code",
   "execution_count": 15,
   "id": "c54b4d04",
   "metadata": {},
   "outputs": [
    {
     "data": {
      "text/html": [
       "<div>\n",
       "<style scoped>\n",
       "    .dataframe tbody tr th:only-of-type {\n",
       "        vertical-align: middle;\n",
       "    }\n",
       "\n",
       "    .dataframe tbody tr th {\n",
       "        vertical-align: top;\n",
       "    }\n",
       "\n",
       "    .dataframe thead th {\n",
       "        text-align: right;\n",
       "    }\n",
       "</style>\n",
       "<table border=\"1\" class=\"dataframe\">\n",
       "  <thead>\n",
       "    <tr style=\"text-align: right;\">\n",
       "      <th></th>\n",
       "      <th>Questions</th>\n",
       "      <th>Major</th>\n",
       "      <th>Minor</th>\n",
       "      <th>Questions_p1</th>\n",
       "      <th>Questions_p2</th>\n",
       "    </tr>\n",
       "  </thead>\n",
       "  <tbody>\n",
       "    <tr>\n",
       "      <th>0</th>\n",
       "      <td>How did serfdom develop in and then leave Russ...</td>\n",
       "      <td>DESCRIPTION</td>\n",
       "      <td>manner</td>\n",
       "      <td>How did serfdom develop in and then leave Russ...</td>\n",
       "      <td>How do serfdom develop in and then leave Russia ?</td>\n",
       "    </tr>\n",
       "    <tr>\n",
       "      <th>1</th>\n",
       "      <td>What films featured the character Popeye Doyle ?</td>\n",
       "      <td>ENTITY</td>\n",
       "      <td>cremat</td>\n",
       "      <td>What films featured the character Popeye Doyle ?</td>\n",
       "      <td>What film feature the character Popeye Doyle ?</td>\n",
       "    </tr>\n",
       "    <tr>\n",
       "      <th>2</th>\n",
       "      <td>How can I find a list of celebrities ' real na...</td>\n",
       "      <td>DESCRIPTION</td>\n",
       "      <td>manner</td>\n",
       "      <td>How can I find a list of celebrities ' real na...</td>\n",
       "      <td>How can I find a list of celebrity ' real name ?</td>\n",
       "    </tr>\n",
       "    <tr>\n",
       "      <th>3</th>\n",
       "      <td>What fowl grabs the spotlight after the Chines...</td>\n",
       "      <td>ENTITY</td>\n",
       "      <td>animal</td>\n",
       "      <td>What fowl grabs the spotlight after the Chines...</td>\n",
       "      <td>What fowl grab the spotlight after the Chinese...</td>\n",
       "    </tr>\n",
       "    <tr>\n",
       "      <th>4</th>\n",
       "      <td>What is the full form of .com ?</td>\n",
       "      <td>ABBREVIATION</td>\n",
       "      <td>exp</td>\n",
       "      <td>What is the full form of .com ?</td>\n",
       "      <td>What be the full form of .com ?</td>\n",
       "    </tr>\n",
       "    <tr>\n",
       "      <th>5</th>\n",
       "      <td>What contemptible scoundrel stole the cork fro...</td>\n",
       "      <td>HUMAN</td>\n",
       "      <td>ind</td>\n",
       "      <td>What contemptible scoundrel stole the cork fro...</td>\n",
       "      <td>What contemptible scoundrel steal the cork fro...</td>\n",
       "    </tr>\n",
       "    <tr>\n",
       "      <th>6</th>\n",
       "      <td>What team did baseball 's St. Louis Browns bec...</td>\n",
       "      <td>HUMAN</td>\n",
       "      <td>gr</td>\n",
       "      <td>What team did baseball's St. Louis Browns beco...</td>\n",
       "      <td>What team do baseball's St. Louis Browns become ?</td>\n",
       "    </tr>\n",
       "    <tr>\n",
       "      <th>7</th>\n",
       "      <td>What is the oldest profession ?</td>\n",
       "      <td>HUMAN</td>\n",
       "      <td>title</td>\n",
       "      <td>What is the oldest profession ?</td>\n",
       "      <td>What be the old profession ?</td>\n",
       "    </tr>\n",
       "    <tr>\n",
       "      <th>8</th>\n",
       "      <td>What are liver enzymes ?</td>\n",
       "      <td>DESCRIPTION</td>\n",
       "      <td>def</td>\n",
       "      <td>What are liver enzymes ?</td>\n",
       "      <td>What be liver enzyme ?</td>\n",
       "    </tr>\n",
       "    <tr>\n",
       "      <th>9</th>\n",
       "      <td>Name the scar-faced bounty hunter of The Old W...</td>\n",
       "      <td>HUMAN</td>\n",
       "      <td>ind</td>\n",
       "      <td>Name the scar-faced bounty hunter of The Old W...</td>\n",
       "      <td>Name the scar-faced bounty hunter of The Old W...</td>\n",
       "    </tr>\n",
       "    <tr>\n",
       "      <th>10</th>\n",
       "      <td>When was Ozzy Osbourne born ?</td>\n",
       "      <td>NUMERIC</td>\n",
       "      <td>date</td>\n",
       "      <td>When was Ozzy Osbourne born ?</td>\n",
       "      <td>When be Ozzy Osbourne bear ?</td>\n",
       "    </tr>\n",
       "    <tr>\n",
       "      <th>11</th>\n",
       "      <td>Why do heavier objects travel downhill faster ?</td>\n",
       "      <td>DESCRIPTION</td>\n",
       "      <td>reason</td>\n",
       "      <td>Why do heavier objects travel downhill faster ?</td>\n",
       "      <td>Why do heavy object travel downhill faster ?</td>\n",
       "    </tr>\n",
       "    <tr>\n",
       "      <th>12</th>\n",
       "      <td>Who was The Pride of the Yankees ?</td>\n",
       "      <td>HUMAN</td>\n",
       "      <td>ind</td>\n",
       "      <td>Who was The Pride of the Yankees ?</td>\n",
       "      <td>Who be The Pride of the Yankees ?</td>\n",
       "    </tr>\n",
       "    <tr>\n",
       "      <th>13</th>\n",
       "      <td>Who killed Gandhi ?</td>\n",
       "      <td>HUMAN</td>\n",
       "      <td>ind</td>\n",
       "      <td>Who killed Gandhi ?</td>\n",
       "      <td>Who kill Gandhi ?</td>\n",
       "    </tr>\n",
       "    <tr>\n",
       "      <th>14</th>\n",
       "      <td>What is considered the costliest disaster the ...</td>\n",
       "      <td>ENTITY</td>\n",
       "      <td>event</td>\n",
       "      <td>What is considered the costliest disaster the ...</td>\n",
       "      <td>What be consider the costly disaster the insur...</td>\n",
       "    </tr>\n",
       "    <tr>\n",
       "      <th>15</th>\n",
       "      <td>What sprawling U.S. state boasts the most airp...</td>\n",
       "      <td>LOCATION</td>\n",
       "      <td>state</td>\n",
       "      <td>What sprawling YOU.S. state boasts the most ai...</td>\n",
       "      <td>What sprawl YOU.S. state boast the most airport ?</td>\n",
       "    </tr>\n",
       "    <tr>\n",
       "      <th>16</th>\n",
       "      <td>What did the only repealed amendment to the U....</td>\n",
       "      <td>DESCRIPTION</td>\n",
       "      <td>desc</td>\n",
       "      <td>What did the only repealed amendment to the YO...</td>\n",
       "      <td>What do the only repealed amendment to the YOU...</td>\n",
       "    </tr>\n",
       "    <tr>\n",
       "      <th>17</th>\n",
       "      <td>How many Jews were executed in concentration c...</td>\n",
       "      <td>NUMERIC</td>\n",
       "      <td>count</td>\n",
       "      <td>How many Jews were executed in concentration c...</td>\n",
       "      <td>How many Jews be execute in concentration camp...</td>\n",
       "    </tr>\n",
       "    <tr>\n",
       "      <th>18</th>\n",
       "      <td>What is `` Nine Inch Nails '' ?</td>\n",
       "      <td>DESCRIPTION</td>\n",
       "      <td>def</td>\n",
       "      <td>What is `` Nine Inch Nails '' ?</td>\n",
       "      <td>What be `` Nine Inch Nails '' ?</td>\n",
       "    </tr>\n",
       "    <tr>\n",
       "      <th>19</th>\n",
       "      <td>What is an annotated bibliography ?</td>\n",
       "      <td>DESCRIPTION</td>\n",
       "      <td>def</td>\n",
       "      <td>What is an annotated bibliography ?</td>\n",
       "      <td>What be an annotated bibliography ?</td>\n",
       "    </tr>\n",
       "  </tbody>\n",
       "</table>\n",
       "</div>"
      ],
      "text/plain": [
       "                                            Questions         Major   Minor  \\\n",
       "0   How did serfdom develop in and then leave Russ...   DESCRIPTION  manner   \n",
       "1    What films featured the character Popeye Doyle ?        ENTITY  cremat   \n",
       "2   How can I find a list of celebrities ' real na...   DESCRIPTION  manner   \n",
       "3   What fowl grabs the spotlight after the Chines...        ENTITY  animal   \n",
       "4                     What is the full form of .com ?  ABBREVIATION     exp   \n",
       "5   What contemptible scoundrel stole the cork fro...         HUMAN     ind   \n",
       "6   What team did baseball 's St. Louis Browns bec...         HUMAN      gr   \n",
       "7                     What is the oldest profession ?         HUMAN   title   \n",
       "8                            What are liver enzymes ?   DESCRIPTION     def   \n",
       "9   Name the scar-faced bounty hunter of The Old W...         HUMAN     ind   \n",
       "10                      When was Ozzy Osbourne born ?       NUMERIC    date   \n",
       "11    Why do heavier objects travel downhill faster ?   DESCRIPTION  reason   \n",
       "12                 Who was The Pride of the Yankees ?         HUMAN     ind   \n",
       "13                                Who killed Gandhi ?         HUMAN     ind   \n",
       "14  What is considered the costliest disaster the ...        ENTITY   event   \n",
       "15  What sprawling U.S. state boasts the most airp...      LOCATION   state   \n",
       "16  What did the only repealed amendment to the U....   DESCRIPTION    desc   \n",
       "17  How many Jews were executed in concentration c...       NUMERIC   count   \n",
       "18                    What is `` Nine Inch Nails '' ?   DESCRIPTION     def   \n",
       "19                What is an annotated bibliography ?   DESCRIPTION     def   \n",
       "\n",
       "                                         Questions_p1  \\\n",
       "0   How did serfdom develop in and then leave Russ...   \n",
       "1    What films featured the character Popeye Doyle ?   \n",
       "2   How can I find a list of celebrities ' real na...   \n",
       "3   What fowl grabs the spotlight after the Chines...   \n",
       "4                     What is the full form of .com ?   \n",
       "5   What contemptible scoundrel stole the cork fro...   \n",
       "6   What team did baseball's St. Louis Browns beco...   \n",
       "7                     What is the oldest profession ?   \n",
       "8                            What are liver enzymes ?   \n",
       "9   Name the scar-faced bounty hunter of The Old W...   \n",
       "10                      When was Ozzy Osbourne born ?   \n",
       "11    Why do heavier objects travel downhill faster ?   \n",
       "12                 Who was The Pride of the Yankees ?   \n",
       "13                                Who killed Gandhi ?   \n",
       "14  What is considered the costliest disaster the ...   \n",
       "15  What sprawling YOU.S. state boasts the most ai...   \n",
       "16  What did the only repealed amendment to the YO...   \n",
       "17  How many Jews were executed in concentration c...   \n",
       "18                    What is `` Nine Inch Nails '' ?   \n",
       "19                What is an annotated bibliography ?   \n",
       "\n",
       "                                         Questions_p2  \n",
       "0   How do serfdom develop in and then leave Russia ?  \n",
       "1      What film feature the character Popeye Doyle ?  \n",
       "2    How can I find a list of celebrity ' real name ?  \n",
       "3   What fowl grab the spotlight after the Chinese...  \n",
       "4                     What be the full form of .com ?  \n",
       "5   What contemptible scoundrel steal the cork fro...  \n",
       "6   What team do baseball's St. Louis Browns become ?  \n",
       "7                        What be the old profession ?  \n",
       "8                              What be liver enzyme ?  \n",
       "9   Name the scar-faced bounty hunter of The Old W...  \n",
       "10                       When be Ozzy Osbourne bear ?  \n",
       "11       Why do heavy object travel downhill faster ?  \n",
       "12                  Who be The Pride of the Yankees ?  \n",
       "13                                  Who kill Gandhi ?  \n",
       "14  What be consider the costly disaster the insur...  \n",
       "15  What sprawl YOU.S. state boast the most airport ?  \n",
       "16  What do the only repealed amendment to the YOU...  \n",
       "17  How many Jews be execute in concentration camp...  \n",
       "18                    What be `` Nine Inch Nails '' ?  \n",
       "19                What be an annotated bibliography ?  "
      ]
     },
     "execution_count": 15,
     "metadata": {},
     "output_type": "execute_result"
    }
   ],
   "source": [
    "df.head(20)"
   ]
  },
  {
   "cell_type": "code",
   "execution_count": 16,
   "id": "baa4bd51",
   "metadata": {},
   "outputs": [],
   "source": [
    "text = df[\"Questions_p2\"].apply(lambda x: x.lower()).to_list()"
   ]
  },
  {
   "cell_type": "code",
   "execution_count": 17,
   "id": "424676ee",
   "metadata": {
    "scrolled": true
   },
   "outputs": [],
   "source": [
    "text_new = []\n",
    "for s in text:\n",
    "    text_new.extend(s.split())\n",
    "result = Counter(text_new)\n",
    "# print(result)"
   ]
  },
  {
   "cell_type": "code",
   "execution_count": 18,
   "id": "4d3e731d",
   "metadata": {},
   "outputs": [],
   "source": [
    "# deriving the custom set of stopwords from the counter results\n",
    "# certain words, which are tempting to be used as stopwords, might actually be useful for classifying the question\n",
    "# punctuations are removed by default in the CountVectorizer\n",
    "custom_stopwords_list = [\"the\", \"is\", \"of\", \"in\", \"a\", \"was\", \"to\", \"are\", \"for\", \"and\", \"does\", \"did\", \"do\", \"on\", \"an\", \"at\"]"
   ]
  },
  {
   "cell_type": "code",
   "execution_count": 19,
   "id": "61a43ee1",
   "metadata": {},
   "outputs": [],
   "source": [
    "# prepare the basic pipeline\n",
    "nb_pipe = make_pipeline(cv(analyzer=\"word\", lowercase=True, stop_words=custom_stopwords_list), MultinomialNB())"
   ]
  },
  {
   "cell_type": "markdown",
   "id": "97126d4e",
   "metadata": {},
   "source": [
    "### Train-Test Split and Base Model"
   ]
  },
  {
   "cell_type": "code",
   "execution_count": 20,
   "id": "420dc4be",
   "metadata": {},
   "outputs": [],
   "source": [
    "X = df[\"Questions_p2\"]\n",
    "y = df[\"Major\"]"
   ]
  },
  {
   "cell_type": "code",
   "execution_count": 25,
   "id": "8fab6942",
   "metadata": {},
   "outputs": [],
   "source": [
    "sss = StratifiedShuffleSplit(n_splits=1, test_size=0.2, random_state=0)"
   ]
  },
  {
   "cell_type": "code",
   "execution_count": 27,
   "id": "5f3b3877",
   "metadata": {},
   "outputs": [],
   "source": [
    "for train_index, test_index in sss.split(X, y):\n",
    "    X_train, X_test = X[train_index], X[test_index]\n",
    "    y_train, y_test = y[train_index], y[test_index]"
   ]
  },
  {
   "cell_type": "code",
   "execution_count": 28,
   "id": "8afa67a8",
   "metadata": {},
   "outputs": [
    {
     "name": "stdout",
     "output_type": "stream",
     "text": [
      "4361 1091 4361 1091\n"
     ]
    }
   ],
   "source": [
    "print(len(X_train), len(X_test), len(y_train), len(y_test))"
   ]
  },
  {
   "cell_type": "code",
   "execution_count": 32,
   "id": "cd2ba1e9",
   "metadata": {},
   "outputs": [
    {
     "data": {
      "text/plain": [
       "ENTITY          0.229305\n",
       "HUMAN           0.224260\n",
       "DESCRIPTION     0.213025\n",
       "NUMERIC         0.164412\n",
       "LOCATION        0.153176\n",
       "ABBREVIATION    0.015822\n",
       "Name: Major, dtype: float64"
      ]
     },
     "execution_count": 32,
     "metadata": {},
     "output_type": "execute_result"
    }
   ],
   "source": [
    "y_train.value_counts(normalize=True)"
   ]
  },
  {
   "cell_type": "code",
   "execution_count": 33,
   "id": "e984e019",
   "metadata": {},
   "outputs": [
    {
     "data": {
      "text/plain": [
       "ENTITY          0.229148\n",
       "HUMAN           0.224565\n",
       "DESCRIPTION     0.213566\n",
       "NUMERIC         0.164070\n",
       "LOCATION        0.153071\n",
       "ABBREVIATION    0.015582\n",
       "Name: Major, dtype: float64"
      ]
     },
     "execution_count": 33,
     "metadata": {},
     "output_type": "execute_result"
    }
   ],
   "source": [
    "y_test.value_counts(normalize=True)"
   ]
  },
  {
   "cell_type": "code",
   "execution_count": 35,
   "id": "7a4ce0da",
   "metadata": {},
   "outputs": [
    {
     "data": {
      "text/plain": [
       "Pipeline(steps=[('countvectorizer',\n",
       "                 CountVectorizer(stop_words=['the', 'is', 'of', 'in', 'a',\n",
       "                                             'was', 'to', 'are', 'for', 'and',\n",
       "                                             'does', 'did', 'do', 'on', 'an',\n",
       "                                             'at'])),\n",
       "                ('multinomialnb', MultinomialNB())])"
      ]
     },
     "execution_count": 35,
     "metadata": {},
     "output_type": "execute_result"
    }
   ],
   "source": [
    "nb_pipe.fit(X_train, y_train)"
   ]
  },
  {
   "cell_type": "code",
   "execution_count": 37,
   "id": "cc136ca2",
   "metadata": {},
   "outputs": [],
   "source": [
    "y_pred = nb_pipe.predict(X_test)"
   ]
  },
  {
   "cell_type": "code",
   "execution_count": 43,
   "id": "cc7d1b0a",
   "metadata": {},
   "outputs": [
    {
     "data": {
      "text/plain": [
       "<sklearn.metrics._plot.confusion_matrix.ConfusionMatrixDisplay at 0x197768e6130>"
      ]
     },
     "execution_count": 43,
     "metadata": {},
     "output_type": "execute_result"
    },
    {
     "data": {
      "image/png": "[encoded data removed]",
      "text/plain": [
       "<Figure size 1080x648 with 2 Axes>"
      ]
     },
     "metadata": {
      "needs_background": "light"
     },
     "output_type": "display_data"
    }
   ],
   "source": [
    "from pylab import rcParams\n",
    "rcParams[\"figure.figsize\"] = 15,9\n",
    "ConfusionMatrixDisplay.from_estimator(nb_pipe, X_test, y_test)"
   ]
  },
  {
   "cell_type": "code",
   "execution_count": 46,
   "id": "3840b0fb",
   "metadata": {},
   "outputs": [
    {
     "name": "stdout",
     "output_type": "stream",
     "text": [
      "              precision    recall  f1-score   support\n",
      "\n",
      "ABBREVIATION       0.00      0.00      0.00        17\n",
      " DESCRIPTION       0.81      0.59      0.68       233\n",
      "      ENTITY       0.62      0.76      0.68       250\n",
      "       HUMAN       0.78      0.85      0.81       245\n",
      "    LOCATION       0.84      0.82      0.83       167\n",
      "     NUMERIC       0.83      0.85      0.84       179\n",
      "\n",
      "    accuracy                           0.76      1091\n",
      "   macro avg       0.65      0.65      0.64      1091\n",
      "weighted avg       0.75      0.76      0.75      1091\n",
      "\n"
     ]
    },
    {
     "name": "stderr",
     "output_type": "stream",
     "text": [
      "C:\\Users\\003BY4744\\Anaconda3\\lib\\site-packages\\sklearn\\metrics\\_classification.py:1318: UndefinedMetricWarning: Precision and F-score are ill-defined and being set to 0.0 in labels with no predicted samples. Use `zero_division` parameter to control this behavior.\n",
      "  _warn_prf(average, modifier, msg_start, len(result))\n",
      "C:\\Users\\003BY4744\\Anaconda3\\lib\\site-packages\\sklearn\\metrics\\_classification.py:1318: UndefinedMetricWarning: Precision and F-score are ill-defined and being set to 0.0 in labels with no predicted samples. Use `zero_division` parameter to control this behavior.\n",
      "  _warn_prf(average, modifier, msg_start, len(result))\n",
      "C:\\Users\\003BY4744\\Anaconda3\\lib\\site-packages\\sklearn\\metrics\\_classification.py:1318: UndefinedMetricWarning: Precision and F-score are ill-defined and being set to 0.0 in labels with no predicted samples. Use `zero_division` parameter to control this behavior.\n",
      "  _warn_prf(average, modifier, msg_start, len(result))\n"
     ]
    }
   ],
   "source": [
    "print(classification_report(y_test, y_pred,))"
   ]
  },
  {
   "cell_type": "code",
   "execution_count": null,
   "id": "43c62e78",
   "metadata": {},
   "outputs": [],
   "source": []
  },
  {
   "cell_type": "code",
   "execution_count": null,
   "id": "cb701a2e",
   "metadata": {},
   "outputs": [],
   "source": []
  },
  {
   "cell_type": "code",
   "execution_count": null,
   "id": "44b7cfea",
   "metadata": {},
   "outputs": [],
   "source": []
  },
  {
   "cell_type": "code",
   "execution_count": null,
   "id": "a9eecb68",
   "metadata": {},
   "outputs": [],
   "source": []
  },
  {
   "cell_type": "code",
   "execution_count": null,
   "id": "85a19116",
   "metadata": {},
   "outputs": [],
   "source": []
  },
  {
   "cell_type": "code",
   "execution_count": null,
   "id": "28b764df",
   "metadata": {},
   "outputs": [],
   "source": []
  }
 ],
 "metadata": {
  "kernelspec": {
   "display_name": "Python 3 (ipykernel)",
   "language": "python",
   "name": "python3"
  },
  "language_info": {
   "codemirror_mode": {
    "name": "ipython",
    "version": 3
   },
   "file_extension": ".py",
   "mimetype": "text/x-python",
   "name": "python",
   "nbconvert_exporter": "python",
   "pygments_lexer": "ipython3",
   "version": "3.9.12"
  }
 },
 "nbformat": 4,
 "nbformat_minor": 5
}
