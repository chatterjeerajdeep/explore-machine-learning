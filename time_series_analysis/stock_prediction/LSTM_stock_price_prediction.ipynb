{
  "nbformat": 4,
  "nbformat_minor": 0,
  "metadata": {
    "colab": {
      "name": "Untitled16.ipynb",
      "provenance": [],
      "authorship_tag": "ABX9TyP0JolnEHoA91FvJwbeyw8y",
      "include_colab_link": true
    },
    "kernelspec": {
      "name": "python3",
      "display_name": "Python 3"
    },
    "language_info": {
      "name": "python"
    }
  },
  "cells": [
    {
      "cell_type": "markdown",
      "metadata": {
        "id": "view-in-github",
        "colab_type": "text"
      },
      "source": [
        "<a href=\"https://colab.research.google.com/github/chatterjeerajdeep/explore-machine-learning/blob/main/LSTM_stock_price_prediction.ipynb\" target=\"_parent\"><img src=\"https://colab.research.google.com/assets/colab-badge.svg\" alt=\"Open In Colab\"/></a>"
      ]
    },
    {
      "cell_type": "code",
      "metadata": {
        "id": "tmA7jT5ZS1El"
      },
      "source": [
        "import pandas as pd\n",
        "import numpy as np\n",
        "import matplotlib.pyplot as plt\n",
        "from keras.models import Sequential\n",
        "from keras.layers import Dense, LSTM, Dropout\n"
      ],
      "execution_count": 1,
      "outputs": []
    },
    {
      "cell_type": "markdown",
      "metadata": {
        "id": "NcrmA-iTngfy"
      },
      "source": [
        "I want to apply LSTM model on a real life stock price prediction data set. So I downloaded the data from https://finance.yahoo.com/quote/ and I chose data for Gold prices."
      ]
    },
    {
      "cell_type": "code",
      "metadata": {
        "colab": {
          "base_uri": "https://localhost:8080/",
          "height": 204
        },
        "id": "6A7WA9XkS51r",
        "outputId": "33b9f994-9206-46f8-ab98-8b63b559b538"
      },
      "source": [
        "df = pd.read_csv(\"/content/Gold_large.csv\")\n",
        "df.head()"
      ],
      "execution_count": 2,
      "outputs": [
        {
          "output_type": "execute_result",
          "data": {
            "text/html": [
              "<div>\n",
              "<style scoped>\n",
              "    .dataframe tbody tr th:only-of-type {\n",
              "        vertical-align: middle;\n",
              "    }\n",
              "\n",
              "    .dataframe tbody tr th {\n",
              "        vertical-align: top;\n",
              "    }\n",
              "\n",
              "    .dataframe thead th {\n",
              "        text-align: right;\n",
              "    }\n",
              "</style>\n",
              "<table border=\"1\" class=\"dataframe\">\n",
              "  <thead>\n",
              "    <tr style=\"text-align: right;\">\n",
              "      <th></th>\n",
              "      <th>Date</th>\n",
              "      <th>Open</th>\n",
              "      <th>High</th>\n",
              "      <th>Low</th>\n",
              "      <th>Close</th>\n",
              "      <th>Adj Close</th>\n",
              "      <th>Volume</th>\n",
              "    </tr>\n",
              "  </thead>\n",
              "  <tbody>\n",
              "    <tr>\n",
              "      <th>0</th>\n",
              "      <td>2000-08-30</td>\n",
              "      <td>273.899994</td>\n",
              "      <td>273.899994</td>\n",
              "      <td>273.899994</td>\n",
              "      <td>273.899994</td>\n",
              "      <td>273.899994</td>\n",
              "      <td>0.0</td>\n",
              "    </tr>\n",
              "    <tr>\n",
              "      <th>1</th>\n",
              "      <td>2000-08-31</td>\n",
              "      <td>274.799988</td>\n",
              "      <td>278.299988</td>\n",
              "      <td>274.799988</td>\n",
              "      <td>278.299988</td>\n",
              "      <td>278.299988</td>\n",
              "      <td>0.0</td>\n",
              "    </tr>\n",
              "    <tr>\n",
              "      <th>2</th>\n",
              "      <td>2000-09-01</td>\n",
              "      <td>277.000000</td>\n",
              "      <td>277.000000</td>\n",
              "      <td>277.000000</td>\n",
              "      <td>277.000000</td>\n",
              "      <td>277.000000</td>\n",
              "      <td>0.0</td>\n",
              "    </tr>\n",
              "    <tr>\n",
              "      <th>3</th>\n",
              "      <td>2000-09-04</td>\n",
              "      <td>NaN</td>\n",
              "      <td>NaN</td>\n",
              "      <td>NaN</td>\n",
              "      <td>NaN</td>\n",
              "      <td>NaN</td>\n",
              "      <td>NaN</td>\n",
              "    </tr>\n",
              "    <tr>\n",
              "      <th>4</th>\n",
              "      <td>2000-09-05</td>\n",
              "      <td>275.799988</td>\n",
              "      <td>275.799988</td>\n",
              "      <td>275.799988</td>\n",
              "      <td>275.799988</td>\n",
              "      <td>275.799988</td>\n",
              "      <td>2.0</td>\n",
              "    </tr>\n",
              "  </tbody>\n",
              "</table>\n",
              "</div>"
            ],
            "text/plain": [
              "         Date        Open        High  ...       Close   Adj Close  Volume\n",
              "0  2000-08-30  273.899994  273.899994  ...  273.899994  273.899994     0.0\n",
              "1  2000-08-31  274.799988  278.299988  ...  278.299988  278.299988     0.0\n",
              "2  2000-09-01  277.000000  277.000000  ...  277.000000  277.000000     0.0\n",
              "3  2000-09-04         NaN         NaN  ...         NaN         NaN     NaN\n",
              "4  2000-09-05  275.799988  275.799988  ...  275.799988  275.799988     2.0\n",
              "\n",
              "[5 rows x 7 columns]"
            ]
          },
          "metadata": {
            "tags": []
          },
          "execution_count": 2
        }
      ]
    },
    {
      "cell_type": "code",
      "metadata": {
        "colab": {
          "base_uri": "https://localhost:8080/"
        },
        "id": "KhrbNpFiTHiD",
        "outputId": "1016e5cf-c652-4bcb-e610-216e967c6b99"
      },
      "source": [
        "# how many data points are we having?\n",
        "df.shape"
      ],
      "execution_count": 3,
      "outputs": [
        {
          "output_type": "execute_result",
          "data": {
            "text/plain": [
              "(5266, 7)"
            ]
          },
          "metadata": {
            "tags": []
          },
          "execution_count": 3
        }
      ]
    },
    {
      "cell_type": "code",
      "metadata": {
        "colab": {
          "base_uri": "https://localhost:8080/"
        },
        "id": "vsNJGCnmTLJ3",
        "outputId": "8ad6daf2-740e-4eaf-9f9e-b9c7a51826d6"
      },
      "source": [
        "# any non numeric type that I might need to worry about?\n",
        "df.dtypes"
      ],
      "execution_count": 4,
      "outputs": [
        {
          "output_type": "execute_result",
          "data": {
            "text/plain": [
              "Date          object\n",
              "Open         float64\n",
              "High         float64\n",
              "Low          float64\n",
              "Close        float64\n",
              "Adj Close    float64\n",
              "Volume       float64\n",
              "dtype: object"
            ]
          },
          "metadata": {
            "tags": []
          },
          "execution_count": 4
        }
      ]
    },
    {
      "cell_type": "code",
      "metadata": {
        "colab": {
          "base_uri": "https://localhost:8080/"
        },
        "id": "vjgC8nT5TxlJ",
        "outputId": "0a47efec-4dfe-4e16-f49c-a2a1b2df6db5"
      },
      "source": [
        "# any missing values?\n",
        "df.isnull().sum()"
      ],
      "execution_count": 5,
      "outputs": [
        {
          "output_type": "execute_result",
          "data": {
            "text/plain": [
              "Date           0\n",
              "Open         112\n",
              "High         112\n",
              "Low          112\n",
              "Close        112\n",
              "Adj Close    112\n",
              "Volume       112\n",
              "dtype: int64"
            ]
          },
          "metadata": {
            "tags": []
          },
          "execution_count": 5
        }
      ]
    },
    {
      "cell_type": "code",
      "metadata": {
        "id": "Ozbon1PIT2EM"
      },
      "source": [
        "# looks like 112 rows of data are blank. So let's get rid of them\n",
        "df = df.dropna()"
      ],
      "execution_count": 6,
      "outputs": []
    },
    {
      "cell_type": "code",
      "metadata": {
        "colab": {
          "base_uri": "https://localhost:8080/"
        },
        "id": "z9vlFaM5T9z2",
        "outputId": "e820706d-a53c-49a5-d96d-0302aa3db881"
      },
      "source": [
        "# checking to be sure\n",
        "df.isnull().sum()"
      ],
      "execution_count": 7,
      "outputs": [
        {
          "output_type": "execute_result",
          "data": {
            "text/plain": [
              "Date         0\n",
              "Open         0\n",
              "High         0\n",
              "Low          0\n",
              "Close        0\n",
              "Adj Close    0\n",
              "Volume       0\n",
              "dtype: int64"
            ]
          },
          "metadata": {
            "tags": []
          },
          "execution_count": 7
        }
      ]
    },
    {
      "cell_type": "code",
      "metadata": {
        "id": "rd_o5hPWUTkg"
      },
      "source": [
        "# we want to predict the closing value of the prices, so that is going to be our data of concern\n",
        "data = df[\"Close\"].values"
      ],
      "execution_count": 8,
      "outputs": []
    },
    {
      "cell_type": "code",
      "metadata": {
        "id": "vGrcdiDzWR-R"
      },
      "source": [
        "# reshaping the data because numpy wants it!\n",
        "data = data.reshape(-1,1)"
      ],
      "execution_count": 9,
      "outputs": []
    },
    {
      "cell_type": "code",
      "metadata": {
        "id": "waT63TWBVgI4"
      },
      "source": [
        "from sklearn.preprocessing import MinMaxScaler"
      ],
      "execution_count": 10,
      "outputs": []
    },
    {
      "cell_type": "code",
      "metadata": {
        "id": "775THbJYVjCy"
      },
      "source": [
        "# need to normalise the data so that the model doesn't get puzzled\n",
        "\n",
        "scaler = MinMaxScaler(feature_range = (0, 1))\n",
        "scaled_data = scaler.fit_transform(data)"
      ],
      "execution_count": 11,
      "outputs": []
    },
    {
      "cell_type": "code",
      "metadata": {
        "id": "0QJrEBbCV6kW"
      },
      "source": [
        "# a manual train test split\n",
        "\n",
        "train_set = scaled_data[:3500]\n",
        "test_set = scaled_data[3500:]"
      ],
      "execution_count": 12,
      "outputs": []
    },
    {
      "cell_type": "code",
      "metadata": {
        "id": "TI5HlfgrWKxf"
      },
      "source": [
        "# preparing the sequence data\n",
        "X_train = []\n",
        "y_train = []\n",
        "\n",
        "for i in range(0, 3450):\n",
        "  X_train.append(train_set[i:i+50, 0])\n",
        "  y_train.append(train_set[i+50, 0])"
      ],
      "execution_count": 13,
      "outputs": []
    },
    {
      "cell_type": "code",
      "metadata": {
        "id": "awCvRgzJY3jE"
      },
      "source": [
        "# making the data ready to be consumed by the model\n",
        "X_train = np.array(X_train)\n",
        "y_train = np.array(y_train)\n",
        "X_train = np.reshape(X_train, (X_train.shape[0], X_train.shape[1], 1))"
      ],
      "execution_count": 14,
      "outputs": []
    },
    {
      "cell_type": "code",
      "metadata": {
        "colab": {
          "base_uri": "https://localhost:8080/"
        },
        "id": "Cg7wG9vFY4zg",
        "outputId": "2de20327-0598-40ee-d7c4-40f7eca66dec"
      },
      "source": [
        "print(X_train.shape, y_train.shape)\n"
      ],
      "execution_count": 15,
      "outputs": [
        {
          "output_type": "stream",
          "text": [
            "(3450, 50, 1) (3450,)\n"
          ],
          "name": "stdout"
        }
      ]
    },
    {
      "cell_type": "code",
      "metadata": {
        "id": "J08d5M2xZ7lB"
      },
      "source": [
        "X_test = []\n",
        "y_test = []\n",
        "\n",
        "for i in range(0, 1450):\n",
        "  X_test.append(test_set[i:i+50, 0])\n",
        "  y_test.append(test_set[i+50, 0])"
      ],
      "execution_count": 16,
      "outputs": []
    },
    {
      "cell_type": "code",
      "metadata": {
        "id": "fzEB8izAbw61"
      },
      "source": [
        "# same data preparation for test data\n",
        "X_test = np.array(X_test)\n",
        "y_test = np.array(y_test)\n",
        "X_test = np.reshape(X_test, (X_test.shape[0], X_test.shape[1], 1))"
      ],
      "execution_count": 17,
      "outputs": []
    },
    {
      "cell_type": "code",
      "metadata": {
        "colab": {
          "base_uri": "https://localhost:8080/"
        },
        "id": "mffZtedVanVA",
        "outputId": "e20f3424-bf26-408b-f429-f98616c4080d"
      },
      "source": [
        "model = Sequential()\n",
        "#Adding the LSTM layers\n",
        "model.add(LSTM(units = 16, return_sequences = True, input_shape = (X_train.shape[1], 1)))\n",
        "model.add(LSTM(units = 8))\n",
        "# Adding the output layer\n",
        "model.add(Dense(units = 1))\n",
        "# Compiling the RNN\n",
        "model.compile(optimizer = 'adam', loss = 'mean_squared_error')\n",
        "# Fitting the RNN to the Training set\n",
        "model.fit(X_train, y_train, epochs = 10, batch_size = 16)"
      ],
      "execution_count": 18,
      "outputs": [
        {
          "output_type": "stream",
          "text": [
            "Epoch 1/10\n",
            "216/216 [==============================] - 10s 32ms/step - loss: 0.0375\n",
            "Epoch 2/10\n",
            "216/216 [==============================] - 7s 34ms/step - loss: 3.7447e-04\n",
            "Epoch 3/10\n",
            "216/216 [==============================] - 7s 34ms/step - loss: 3.4099e-04\n",
            "Epoch 4/10\n",
            "216/216 [==============================] - 7s 34ms/step - loss: 2.9416e-04\n",
            "Epoch 5/10\n",
            "216/216 [==============================] - 7s 34ms/step - loss: 2.8174e-04\n",
            "Epoch 6/10\n",
            "216/216 [==============================] - 7s 34ms/step - loss: 2.5276e-04\n",
            "Epoch 7/10\n",
            "216/216 [==============================] - 7s 34ms/step - loss: 2.6608e-04\n",
            "Epoch 8/10\n",
            "216/216 [==============================] - 8s 35ms/step - loss: 2.1182e-04\n",
            "Epoch 9/10\n",
            "216/216 [==============================] - 8s 35ms/step - loss: 2.4693e-04\n",
            "Epoch 10/10\n",
            "216/216 [==============================] - 8s 35ms/step - loss: 2.0004e-04\n"
          ],
          "name": "stdout"
        },
        {
          "output_type": "execute_result",
          "data": {
            "text/plain": [
              "<tensorflow.python.keras.callbacks.History at 0x7f7056120350>"
            ]
          },
          "metadata": {
            "tags": []
          },
          "execution_count": 18
        }
      ]
    },
    {
      "cell_type": "code",
      "metadata": {
        "id": "ZvbjwTK_a-eY"
      },
      "source": [
        "from matplotlib import pyplot as plt"
      ],
      "execution_count": 19,
      "outputs": []
    },
    {
      "cell_type": "code",
      "metadata": {
        "colab": {
          "base_uri": "https://localhost:8080/",
          "height": 282
        },
        "id": "4XWE-iYtecG3",
        "outputId": "4ee9fdb7-3840-4285-9eb5-d8d99f58128e"
      },
      "source": [
        "# visualising the model output on train data\n",
        "y_hat = model.predict(X_train)\n",
        "plt.plot(y_train[:], 'r')\n",
        "plt.plot(y_hat[:],'b')"
      ],
      "execution_count": 20,
      "outputs": [
        {
          "output_type": "execute_result",
          "data": {
            "text/plain": [
              "[<matplotlib.lines.Line2D at 0x7f7055897a10>]"
            ]
          },
          "metadata": {
            "tags": []
          },
          "execution_count": 20
        },
        {
          "output_type": "display_data",
          "data": {
            "image/png": "[encoded data removed]",
            "text/plain": [
              "<Figure size 432x288 with 1 Axes>"
            ]
          },
          "metadata": {
            "tags": [],
            "needs_background": "light"
          }
        }
      ]
    },
    {
      "cell_type": "code",
      "metadata": {
        "colab": {
          "base_uri": "https://localhost:8080/",
          "height": 282
        },
        "id": "Z78Ely1NemuP",
        "outputId": "729417e3-896b-4814-87c3-e2e2ab11f377"
      },
      "source": [
        "# visualising the model output on test data\n",
        "y_hat = model.predict(X_test)\n",
        "plt.plot(y_test[:], 'r')\n",
        "plt.plot(y_hat[:], 'b')"
      ],
      "execution_count": 21,
      "outputs": [
        {
          "output_type": "execute_result",
          "data": {
            "text/plain": [
              "[<matplotlib.lines.Line2D at 0x7f70525323d0>]"
            ]
          },
          "metadata": {
            "tags": []
          },
          "execution_count": 21
        },
        {
          "output_type": "display_data",
          "data": {
            "image/png": "[encoded data removed]",
            "text/plain": [
              "<Figure size 432x288 with 1 Axes>"
            ]
          },
          "metadata": {
            "tags": [],
            "needs_background": "light"
          }
        }
      ]
    },
    {
      "cell_type": "code",
      "metadata": {
        "id": "2Jy3nFooei6r"
      },
      "source": [
        ""
      ],
      "execution_count": 21,
      "outputs": []
    }
  ]
}