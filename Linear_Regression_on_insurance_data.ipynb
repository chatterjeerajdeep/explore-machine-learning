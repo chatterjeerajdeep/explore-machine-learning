{
  "nbformat": 4,
  "nbformat_minor": 0,
  "metadata": {
    "colab": {
      "name": "Linear_Regression_on_insurance_data.ipynb",
      "provenance": [],
      "collapsed_sections": [],
      "toc_visible": true,
      "include_colab_link": true
    },
    "kernelspec": {
      "name": "python3",
      "display_name": "Python 3"
    },
    "language_info": {
      "name": "python"
    }
  },
  "cells": [
    {
      "cell_type": "markdown",
      "metadata": {
        "id": "view-in-github",
        "colab_type": "text"
      },
      "source": [
        "<a href=\"https://colab.research.google.com/github/chatterjeerajdeep/machine-learning-projects/blob/main/Linear_Regression_on_insurance_data.ipynb\" target=\"_parent\"><img src=\"https://colab.research.google.com/assets/colab-badge.svg\" alt=\"Open In Colab\"/></a>"
      ]
    },
    {
      "cell_type": "markdown",
      "metadata": {
        "id": "9DHBo4b9F6wK"
      },
      "source": [
        "#### Import statements\n",
        "\n"
      ]
    },
    {
      "cell_type": "code",
      "metadata": {
        "colab": {
          "base_uri": "https://localhost:8080/"
        },
        "id": "isu8kMAnF_Bd",
        "outputId": "d2342af8-53dd-4b60-d135-e7b398170849"
      },
      "source": [
        "import pandas as pd\n",
        "import numpy as np\n",
        "from sklearn.preprocessing import *\n",
        "import seaborn as sns\n",
        "import statsmodels.api as sm"
      ],
      "execution_count": null,
      "outputs": [
        {
          "output_type": "stream",
          "text": [
            "/usr/local/lib/python3.7/dist-packages/statsmodels/tools/_testing.py:19: FutureWarning: pandas.util.testing is deprecated. Use the functions in the public API at pandas.testing instead.\n",
            "  import pandas.util.testing as tm\n"
          ],
          "name": "stderr"
        }
      ]
    },
    {
      "cell_type": "markdown",
      "metadata": {
        "id": "3Q7z2BI0GLef"
      },
      "source": [
        "#### Import data"
      ]
    },
    {
      "cell_type": "code",
      "metadata": {
        "id": "t9AsN7WUGBT0"
      },
      "source": [
        "data = pd.read_csv(\"/content/insurance.csv\")"
      ],
      "execution_count": null,
      "outputs": []
    },
    {
      "cell_type": "markdown",
      "metadata": {
        "id": "nIwKykqDLmBp"
      },
      "source": [
        "#### Objective"
      ]
    },
    {
      "cell_type": "markdown",
      "metadata": {
        "id": "zCf5FpBoGfov"
      },
      "source": [
        "What we know from the [previous](https://github.com/chatterjeerajdeep/explore-machine-learning/blob/main/EDA_for_insurance_data.ipynb) exploratory data analysis:\n",
        "\n",
        "1. We want to relate the **charges** incurred by beneficiaries to information like **age, bmi, smoker status, number of children, sex and region**\n",
        "2. Features like **smoker status, bmi and age** were observed to affect the charges, **the most**\n",
        "3. Features like **number of children, sex and region** were observed to be **not that important**, although slight variations could be seen in the effect of sex and region, majorly due to the influence of presence of smokers \n",
        "4. Beneficiaries having **no children** were found to claim **lower charges**\n",
        "5. The variation in  **charges** incurred with increase in **bmi** was majorly **influenced by smoker status**\n",
        "6. The variation in **charges** incurred for every **age** group was majorly **influenced by smoker status**"
      ]
    },
    {
      "cell_type": "markdown",
      "metadata": {
        "id": "oOtk5NYXJhJJ"
      },
      "source": [
        "What do we want to achieve?\n",
        "1. Build a linear regression model to fit the data and predict charges \n",
        "\n",
        "1. Verify if the observations and the mathematical results tally in terms of relevance of features\n",
        "2. Explore different feature scaling techniques and find their effects on the model performance\n",
        "3. Compare what helps us to build a better model - our intuition about the data or backward elimination of features based on feature relevance"
      ]
    },
    {
      "cell_type": "markdown",
      "metadata": {
        "id": "lJorZzLFLqS_"
      },
      "source": [
        "#### Feature Engineering"
      ]
    },
    {
      "cell_type": "code",
      "metadata": {
        "id": "n3RExUXmNh4k"
      },
      "source": [
        "# features\n",
        "data_X = data.drop(\"charges\", axis = 1)\n",
        "# target\n",
        "data_Y = data.charges"
      ],
      "execution_count": null,
      "outputs": []
    },
    {
      "cell_type": "code",
      "metadata": {
        "colab": {
          "base_uri": "https://localhost:8080/"
        },
        "id": "ipVLWgvvOBmc",
        "outputId": "c0bfde22-b43a-4041-d796-35c115568072"
      },
      "source": [
        "data_X.info()"
      ],
      "execution_count": null,
      "outputs": [
        {
          "output_type": "stream",
          "text": [
            "<class 'pandas.core.frame.DataFrame'>\n",
            "RangeIndex: 1338 entries, 0 to 1337\n",
            "Data columns (total 6 columns):\n",
            " #   Column    Non-Null Count  Dtype  \n",
            "---  ------    --------------  -----  \n",
            " 0   age       1338 non-null   int64  \n",
            " 1   sex       1338 non-null   object \n",
            " 2   bmi       1338 non-null   float64\n",
            " 3   children  1338 non-null   int64  \n",
            " 4   smoker    1338 non-null   object \n",
            " 5   region    1338 non-null   object \n",
            "dtypes: float64(1), int64(2), object(3)\n",
            "memory usage: 62.8+ KB\n"
          ],
          "name": "stdout"
        }
      ]
    },
    {
      "cell_type": "markdown",
      "metadata": {
        "id": "AjU_I_R3ZHKh"
      },
      "source": [
        "##### transform categorical features"
      ]
    },
    {
      "cell_type": "code",
      "metadata": {
        "id": "cr3a7I8RGTHe"
      },
      "source": [
        "# treat categorical variables - sex, children, smoker and region with one-hot encoding\n",
        "# note: we have dropped the first column to avoid the dummy variable trap\n",
        "data_X = pd.get_dummies(data_X, columns=[\"sex\", \"region\", \"smoker\", \"children\"], prefix=[\"sex_\", \"region_\", \"smoker_\", \"children_\"], drop_first=True)"
      ],
      "execution_count": null,
      "outputs": []
    },
    {
      "cell_type": "code",
      "metadata": {
        "colab": {
          "base_uri": "https://localhost:8080/",
          "height": 224
        },
        "id": "Jf_eX5e1OLmY",
        "outputId": "ab0ac87b-c079-4852-878d-1b61a7df44df"
      },
      "source": [
        "data_X.head()"
      ],
      "execution_count": null,
      "outputs": [
        {
          "output_type": "execute_result",
          "data": {
            "text/html": [
              "<div>\n",
              "<style scoped>\n",
              "    .dataframe tbody tr th:only-of-type {\n",
              "        vertical-align: middle;\n",
              "    }\n",
              "\n",
              "    .dataframe tbody tr th {\n",
              "        vertical-align: top;\n",
              "    }\n",
              "\n",
              "    .dataframe thead th {\n",
              "        text-align: right;\n",
              "    }\n",
              "</style>\n",
              "<table border=\"1\" class=\"dataframe\">\n",
              "  <thead>\n",
              "    <tr style=\"text-align: right;\">\n",
              "      <th></th>\n",
              "      <th>age</th>\n",
              "      <th>bmi</th>\n",
              "      <th>sex__male</th>\n",
              "      <th>region__northwest</th>\n",
              "      <th>region__southeast</th>\n",
              "      <th>region__southwest</th>\n",
              "      <th>smoker__yes</th>\n",
              "      <th>children__1</th>\n",
              "      <th>children__2</th>\n",
              "      <th>children__3</th>\n",
              "      <th>children__4</th>\n",
              "      <th>children__5</th>\n",
              "    </tr>\n",
              "  </thead>\n",
              "  <tbody>\n",
              "    <tr>\n",
              "      <th>0</th>\n",
              "      <td>19</td>\n",
              "      <td>27.900</td>\n",
              "      <td>0</td>\n",
              "      <td>0</td>\n",
              "      <td>0</td>\n",
              "      <td>1</td>\n",
              "      <td>1</td>\n",
              "      <td>0</td>\n",
              "      <td>0</td>\n",
              "      <td>0</td>\n",
              "      <td>0</td>\n",
              "      <td>0</td>\n",
              "    </tr>\n",
              "    <tr>\n",
              "      <th>1</th>\n",
              "      <td>18</td>\n",
              "      <td>33.770</td>\n",
              "      <td>1</td>\n",
              "      <td>0</td>\n",
              "      <td>1</td>\n",
              "      <td>0</td>\n",
              "      <td>0</td>\n",
              "      <td>1</td>\n",
              "      <td>0</td>\n",
              "      <td>0</td>\n",
              "      <td>0</td>\n",
              "      <td>0</td>\n",
              "    </tr>\n",
              "    <tr>\n",
              "      <th>2</th>\n",
              "      <td>28</td>\n",
              "      <td>33.000</td>\n",
              "      <td>1</td>\n",
              "      <td>0</td>\n",
              "      <td>1</td>\n",
              "      <td>0</td>\n",
              "      <td>0</td>\n",
              "      <td>0</td>\n",
              "      <td>0</td>\n",
              "      <td>1</td>\n",
              "      <td>0</td>\n",
              "      <td>0</td>\n",
              "    </tr>\n",
              "    <tr>\n",
              "      <th>3</th>\n",
              "      <td>33</td>\n",
              "      <td>22.705</td>\n",
              "      <td>1</td>\n",
              "      <td>1</td>\n",
              "      <td>0</td>\n",
              "      <td>0</td>\n",
              "      <td>0</td>\n",
              "      <td>0</td>\n",
              "      <td>0</td>\n",
              "      <td>0</td>\n",
              "      <td>0</td>\n",
              "      <td>0</td>\n",
              "    </tr>\n",
              "    <tr>\n",
              "      <th>4</th>\n",
              "      <td>32</td>\n",
              "      <td>28.880</td>\n",
              "      <td>1</td>\n",
              "      <td>1</td>\n",
              "      <td>0</td>\n",
              "      <td>0</td>\n",
              "      <td>0</td>\n",
              "      <td>0</td>\n",
              "      <td>0</td>\n",
              "      <td>0</td>\n",
              "      <td>0</td>\n",
              "      <td>0</td>\n",
              "    </tr>\n",
              "  </tbody>\n",
              "</table>\n",
              "</div>"
            ],
            "text/plain": [
              "   age     bmi  sex__male  ...  children__3  children__4  children__5\n",
              "0   19  27.900          0  ...            0            0            0\n",
              "1   18  33.770          1  ...            0            0            0\n",
              "2   28  33.000          1  ...            1            0            0\n",
              "3   33  22.705          1  ...            0            0            0\n",
              "4   32  28.880          1  ...            0            0            0\n",
              "\n",
              "[5 rows x 12 columns]"
            ]
          },
          "metadata": {
            "tags": []
          },
          "execution_count": 6
        }
      ]
    },
    {
      "cell_type": "code",
      "metadata": {
        "colab": {
          "base_uri": "https://localhost:8080/",
          "height": 386
        },
        "id": "pFqSq_CPOZlG",
        "outputId": "fca3c759-5d2b-447e-db10-33e217f2d24a"
      },
      "source": [
        "# observe the distribution of features\n",
        "sns.displot(data_X, kind='kde')"
      ],
      "execution_count": null,
      "outputs": [
        {
          "output_type": "execute_result",
          "data": {
            "text/plain": [
              "<seaborn.axisgrid.FacetGrid at 0x7f41b9a7ded0>"
            ]
          },
          "metadata": {
            "tags": []
          },
          "execution_count": 7
        },
        {
          "output_type": "display_data",
          "data": {
            "image/png": "[encoded data removed]",
            "text/plain": [
              "<Figure size 488.875x360 with 1 Axes>"
            ]
          },
          "metadata": {
            "tags": [],
            "needs_background": "light"
          }
        }
      ]
    },
    {
      "cell_type": "markdown",
      "metadata": {
        "id": "yeSMgcN1TG9q"
      },
      "source": [
        "Obviously, each feature has it's own scale"
      ]
    },
    {
      "cell_type": "markdown",
      "metadata": {
        "id": "HZnTb2BBORG3"
      },
      "source": [
        "##### feature scaling"
      ]
    },
    {
      "cell_type": "markdown",
      "metadata": {
        "id": "o5h9y0vHPB8u"
      },
      "source": [
        "Do we need feature scaling for linear regression?\n",
        "\n",
        "* There are 2 ways that Linear Regression is implemented - Matrix method and Gradient Descent method.\n",
        "\n",
        "* Scaling features can help to converge faster in case of gradient descent. In case of matrix method, it does not make much of a difference as the coefficients compensate for the scale.\n",
        "\n",
        "* However, scaling can improve the interpretability of the features, and hence has no harm in implementing.\n",
        "\n",
        "\n",
        "\n",
        "\n",
        "\n"
      ]
    },
    {
      "cell_type": "markdown",
      "metadata": {
        "id": "-lfyiutfWQMC"
      },
      "source": [
        "We will use the information from the [previous](https://github.com/chatterjeerajdeep/explore-machine-learning/blob/main/EDA_for_insurance_data.ipynb) analysis, about presence of outliers and skewness of data here"
      ]
    },
    {
      "cell_type": "code",
      "metadata": {
        "id": "zEHNl4dFON32"
      },
      "source": [
        "# trying min_max_scaler - transforms the range of the data between 0 and 1, this does not affect the spread of the data\n",
        "data_X_min_max = MinMaxScaler().fit_transform(data_X)"
      ],
      "execution_count": null,
      "outputs": []
    },
    {
      "cell_type": "code",
      "metadata": {
        "colab": {
          "base_uri": "https://localhost:8080/",
          "height": 386
        },
        "id": "tQJkxelCVAbD",
        "outputId": "76602668-eaca-4ea5-c807-5e162ac9f7d1"
      },
      "source": [
        "sns.displot(data_X_min_max, kind='kde')"
      ],
      "execution_count": null,
      "outputs": [
        {
          "output_type": "execute_result",
          "data": {
            "text/plain": [
              "<seaborn.axisgrid.FacetGrid at 0x7f41b9b52b90>"
            ]
          },
          "metadata": {
            "tags": []
          },
          "execution_count": 9
        },
        {
          "output_type": "display_data",
          "data": {
            "image/png": "[encoded data removed]",
            "text/plain": [
              "<Figure size 408.75x360 with 1 Axes>"
            ]
          },
          "metadata": {
            "tags": [],
            "needs_background": "light"
          }
        }
      ]
    },
    {
      "cell_type": "code",
      "metadata": {
        "id": "bNH1u_r5VEVs"
      },
      "source": [
        "# trying standard scaler - transforms data to have mean 0 std dev 1\n",
        "data_X_std = StandardScaler().fit_transform(data_X)"
      ],
      "execution_count": null,
      "outputs": []
    },
    {
      "cell_type": "code",
      "metadata": {
        "colab": {
          "base_uri": "https://localhost:8080/",
          "height": 386
        },
        "id": "RIAIZ1OdVLft",
        "outputId": "1088c741-f331-47f5-b574-a19faf31bd59"
      },
      "source": [
        "sns.displot(data_X_std, kind='kde')"
      ],
      "execution_count": null,
      "outputs": [
        {
          "output_type": "execute_result",
          "data": {
            "text/plain": [
              "<seaborn.axisgrid.FacetGrid at 0x7f41ae1f34d0>"
            ]
          },
          "metadata": {
            "tags": []
          },
          "execution_count": 11
        },
        {
          "output_type": "display_data",
          "data": {
            "image/png": "[encoded data removed]",
            "text/plain": [
              "<Figure size 408.75x360 with 1 Axes>"
            ]
          },
          "metadata": {
            "tags": [],
            "needs_background": "light"
          }
        }
      ]
    },
    {
      "cell_type": "code",
      "metadata": {
        "id": "PvejI5jkVODU"
      },
      "source": [
        "# trying robust scaler - unlike the previous two method of scaling, this method is not affected \n",
        "# by outliers\n",
        "# feature like bmi has some outliers\n",
        "data_X_robust = RobustScaler().fit_transform(data_X)"
      ],
      "execution_count": null,
      "outputs": []
    },
    {
      "cell_type": "code",
      "metadata": {
        "colab": {
          "base_uri": "https://localhost:8080/",
          "height": 386
        },
        "id": "4Oh2vMoEVusK",
        "outputId": "f7ac2aa2-269d-47ac-be8d-510925b5c74a"
      },
      "source": [
        "sns.displot(data_X_robust, kind='kde')"
      ],
      "execution_count": null,
      "outputs": [
        {
          "output_type": "execute_result",
          "data": {
            "text/plain": [
              "<seaborn.axisgrid.FacetGrid at 0x7f41ae218a10>"
            ]
          },
          "metadata": {
            "tags": []
          },
          "execution_count": 13
        },
        {
          "output_type": "display_data",
          "data": {
            "image/png": "[encoded data removed]",
            "text/plain": [
              "<Figure size 408.75x360 with 1 Axes>"
            ]
          },
          "metadata": {
            "tags": [],
            "needs_background": "light"
          }
        }
      ]
    },
    {
      "cell_type": "code",
      "metadata": {
        "colab": {
          "base_uri": "https://localhost:8080/",
          "height": 386
        },
        "id": "ZWT7X9gCV-Rf",
        "outputId": "52d65109-1011-4eea-ed79-4f3f39bf4b04"
      },
      "source": [
        "# our target variable is positively skewed\n",
        "sns.displot(data_Y, kind='kde')\n",
        "print(data_Y.skew())"
      ],
      "execution_count": null,
      "outputs": [
        {
          "output_type": "stream",
          "text": [
            "1.5158796580240388\n"
          ],
          "name": "stdout"
        },
        {
          "output_type": "display_data",
          "data": {
            "image/png": "[encoded data removed]",
            "text/plain": [
              "<Figure size 360x360 with 1 Axes>"
            ]
          },
          "metadata": {
            "tags": [],
            "needs_background": "light"
          }
        }
      ]
    },
    {
      "cell_type": "code",
      "metadata": {
        "colab": {
          "base_uri": "https://localhost:8080/",
          "height": 386
        },
        "id": "2yPd_4SAWwP3",
        "outputId": "c4c437c9-10c3-43dc-8def-6a925c3e43cc"
      },
      "source": [
        "# linear regression works best with normal distribution of data\n",
        "# applying logarithm on the target variable to correct skewness\n",
        "logged_y = np.log1p(data_Y)\n",
        "sns.displot(logged_y, kind='kde')\n",
        "print(logged_y.skew())"
      ],
      "execution_count": null,
      "outputs": [
        {
          "output_type": "stream",
          "text": [
            "-0.08981728740026819\n"
          ],
          "name": "stdout"
        },
        {
          "output_type": "display_data",
          "data": {
            "image/png": "[encoded data removed]",
            "text/plain": [
              "<Figure size 360x360 with 1 Axes>"
            ]
          },
          "metadata": {
            "tags": [],
            "needs_background": "light"
          }
        }
      ]
    },
    {
      "cell_type": "code",
      "metadata": {
        "colab": {
          "base_uri": "https://localhost:8080/",
          "height": 386
        },
        "id": "hk6_7Fl9YHuJ",
        "outputId": "971aad25-e28c-49ab-afec-d9dbb1071b85"
      },
      "source": [
        "# applying box-cox transformation\n",
        "box_cox_y = power_transform(np.array(data_Y).reshape(1338,1), method='box-cox')\n",
        "sns.displot(box_cox_y, kind='kde')"
      ],
      "execution_count": null,
      "outputs": [
        {
          "output_type": "execute_result",
          "data": {
            "text/plain": [
              "<seaborn.axisgrid.FacetGrid at 0x7f41adfbb350>"
            ]
          },
          "metadata": {
            "tags": []
          },
          "execution_count": 16
        },
        {
          "output_type": "display_data",
          "data": {
            "image/png": "[encoded data removed]",
            "text/plain": [
              "<Figure size 402.25x360 with 1 Axes>"
            ]
          },
          "metadata": {
            "tags": [],
            "needs_background": "light"
          }
        }
      ]
    },
    {
      "cell_type": "markdown",
      "metadata": {
        "id": "-38OYdDGZR15"
      },
      "source": [
        "#### Apply Linear Regression"
      ]
    },
    {
      "cell_type": "markdown",
      "metadata": {
        "id": "MMXlp3SxZh9E"
      },
      "source": [
        "##### No transformations applied"
      ]
    },
    {
      "cell_type": "code",
      "metadata": {
        "colab": {
          "base_uri": "https://localhost:8080/"
        },
        "id": "G65D_mmhYn1V",
        "outputId": "078405f8-33de-405a-a9e7-26ea6fe537d5"
      },
      "source": [
        "# model 1\n",
        "# account for intercept\n",
        "data_X_arr = sm.add_constant(data_X)\n",
        "\n",
        "model = sm.OLS(data_Y, data_X_arr)\n",
        "results = model.fit()\n",
        "print(results.summary())"
      ],
      "execution_count": null,
      "outputs": [
        {
          "output_type": "stream",
          "text": [
            "                            OLS Regression Results                            \n",
            "==============================================================================\n",
            "Dep. Variable:                charges   R-squared:                       0.752\n",
            "Model:                            OLS   Adj. R-squared:                  0.750\n",
            "Method:                 Least Squares   F-statistic:                     334.7\n",
            "Date:                Mon, 31 May 2021   Prob (F-statistic):               0.00\n",
            "Time:                        17:17:05   Log-Likelihood:                -13545.\n",
            "No. Observations:                1338   AIC:                         2.712e+04\n",
            "Df Residuals:                    1325   BIC:                         2.718e+04\n",
            "Df Model:                          12                                         \n",
            "Covariance Type:            nonrobust                                         \n",
            "=====================================================================================\n",
            "                        coef    std err          t      P>|t|      [0.025      0.975]\n",
            "-------------------------------------------------------------------------------------\n",
            "const             -1.193e+04    993.657    -12.003      0.000   -1.39e+04   -9977.861\n",
            "age                 257.1933     11.914     21.587      0.000     233.820     280.567\n",
            "bmi                 336.9088     28.612     11.775      0.000     280.779     393.039\n",
            "sex__male          -128.1616    332.834     -0.385      0.700    -781.101     524.778\n",
            "region__northwest  -380.0439    476.559     -0.797      0.425   -1314.936     554.848\n",
            "region__southeast -1033.1375    479.139     -2.156      0.031   -1973.091     -93.184\n",
            "region__southwest  -952.8878    478.153     -1.993      0.046   -1890.908     -14.867\n",
            "smoker__yes        2.384e+04    414.139     57.557      0.000     2.3e+04    2.46e+04\n",
            "children__1         390.9782    421.350      0.928      0.354    -435.608    1217.565\n",
            "children__2        1635.7772    466.670      3.505      0.000     720.284    2551.270\n",
            "children__3         964.3403    548.097      1.759      0.079    -110.893    2039.574\n",
            "children__4        2947.3680   1239.163      2.379      0.018     516.432    5378.304\n",
            "children__5        1116.0395   1456.015      0.767      0.444   -1740.307    3972.386\n",
            "==============================================================================\n",
            "Omnibus:                      293.990   Durbin-Watson:                   2.084\n",
            "Prob(Omnibus):                  0.000   Jarque-Bera (JB):              695.789\n",
            "Skew:                           1.191   Prob(JB):                    8.15e-152\n",
            "Kurtosis:                       5.609   Cond. No.                         453.\n",
            "==============================================================================\n",
            "\n",
            "Warnings:\n",
            "[1] Standard Errors assume that the covariance matrix of the errors is correctly specified.\n"
          ],
          "name": "stdout"
        }
      ]
    },
    {
      "cell_type": "markdown",
      "metadata": {
        "id": "v8-1U53qZ4f7"
      },
      "source": [
        "##### Observations\n",
        "1. The coefficients obtained are of varying range\n",
        "2. The adjusted r-squared is 0.75\n",
        "3. sex, region and children one-hot encoded features have a high p-value, meaning that they are not statistically significant. This verifies our observations\n",
        "4. age, bmi and smoker have a very low p-value almost equal to zero. This verifies our observations"
      ]
    },
    {
      "cell_type": "markdown",
      "metadata": {
        "id": "HXuSYIw6aIrV"
      },
      "source": [
        "##### Apply Backward Elimination based on p-value"
      ]
    },
    {
      "cell_type": "code",
      "metadata": {
        "colab": {
          "base_uri": "https://localhost:8080/"
        },
        "id": "xDQPZ-xEZnoz",
        "outputId": "603ff320-c154-4c50-f7a4-a3774a315f1e"
      },
      "source": [
        "# model 2: removing the feature with highest p-value - sex__male\n",
        "data_X_mod1 = data_X.drop([\"sex__male\"], axis = 1)\n",
        "\n",
        "# account for intercept\n",
        "data_X_arr = sm.add_constant(data_X_mod1)\n",
        "\n",
        "model_mod1 = sm.OLS(data_Y, data_X_arr)\n",
        "results = model_mod1.fit()\n",
        "print(results.summary())"
      ],
      "execution_count": null,
      "outputs": [
        {
          "output_type": "stream",
          "text": [
            "                            OLS Regression Results                            \n",
            "==============================================================================\n",
            "Dep. Variable:                charges   R-squared:                       0.752\n",
            "Model:                            OLS   Adj. R-squared:                  0.750\n",
            "Method:                 Least Squares   F-statistic:                     365.3\n",
            "Date:                Mon, 31 May 2021   Prob (F-statistic):               0.00\n",
            "Time:                        17:17:48   Log-Likelihood:                -13545.\n",
            "No. Observations:                1338   AIC:                         2.711e+04\n",
            "Df Residuals:                    1326   BIC:                         2.718e+04\n",
            "Df Model:                          11                                         \n",
            "Covariance Type:            nonrobust                                         \n",
            "=====================================================================================\n",
            "                        coef    std err          t      P>|t|      [0.025      0.975]\n",
            "-------------------------------------------------------------------------------------\n",
            "const             -1.198e+04    984.791    -12.162      0.000   -1.39e+04      -1e+04\n",
            "age                 257.3046     11.907     21.609      0.000     233.946     280.663\n",
            "bmi                 336.3885     28.571     11.774      0.000     280.339     392.438\n",
            "region__northwest  -379.4355    476.403     -0.796      0.426   -1314.022     555.151\n",
            "region__southeast -1032.4343    478.982     -2.155      0.031   -1972.079     -92.790\n",
            "region__southwest  -952.1616    477.996     -1.992      0.047   -1889.873     -14.450\n",
            "smoker__yes        2.382e+04    412.798     57.714      0.000     2.3e+04    2.46e+04\n",
            "children__1         388.7148    421.174      0.923      0.356    -437.525    1214.955\n",
            "children__2        1635.2322    466.518      3.505      0.000     720.038    2550.426\n",
            "children__3         962.9771    547.910      1.758      0.079    -111.888    2037.842\n",
            "children__4        2938.6462   1238.558      2.373      0.018     508.898    5368.394\n",
            "children__5        1106.4498   1455.335      0.760      0.447   -1748.560    3961.459\n",
            "==============================================================================\n",
            "Omnibus:                      294.356   Durbin-Watson:                   2.085\n",
            "Prob(Omnibus):                  0.000   Jarque-Bera (JB):              697.395\n",
            "Skew:                           1.192   Prob(JB):                    3.65e-152\n",
            "Kurtosis:                       5.613   Cond. No.                         453.\n",
            "==============================================================================\n",
            "\n",
            "Warnings:\n",
            "[1] Standard Errors assume that the covariance matrix of the errors is correctly specified.\n"
          ],
          "name": "stdout"
        }
      ]
    },
    {
      "cell_type": "code",
      "metadata": {
        "colab": {
          "base_uri": "https://localhost:8080/"
        },
        "id": "Lo7xJKchbnhp",
        "outputId": "09cedcae-cec6-41af-9b27-d2b112f9b9b2"
      },
      "source": [
        "# model 3: removing the feature with highest p-value - children__5\n",
        "data_X_mod2 = data_X_mod1.drop([\"children__5\"], axis = 1)\n",
        "\n",
        "# account for intercept\n",
        "data_X_arr = sm.add_constant(data_X_mod2)\n",
        "\n",
        "model_mod2 = sm.OLS(data_Y, data_X_arr)\n",
        "results = model_mod2.fit()\n",
        "print(results.summary())"
      ],
      "execution_count": null,
      "outputs": [
        {
          "output_type": "stream",
          "text": [
            "                            OLS Regression Results                            \n",
            "==============================================================================\n",
            "Dep. Variable:                charges   R-squared:                       0.752\n",
            "Model:                            OLS   Adj. R-squared:                  0.750\n",
            "Method:                 Least Squares   F-statistic:                     401.9\n",
            "Date:                Mon, 31 May 2021   Prob (F-statistic):               0.00\n",
            "Time:                        17:19:09   Log-Likelihood:                -13545.\n",
            "No. Observations:                1338   AIC:                         2.711e+04\n",
            "Df Residuals:                    1327   BIC:                         2.717e+04\n",
            "Df Model:                          10                                         \n",
            "Covariance Type:            nonrobust                                         \n",
            "=====================================================================================\n",
            "                        coef    std err          t      P>|t|      [0.025      0.975]\n",
            "-------------------------------------------------------------------------------------\n",
            "const             -1.192e+04    981.938    -12.141      0.000   -1.38e+04   -9995.575\n",
            "age                 257.1103     11.902     21.601      0.000     233.761     280.460\n",
            "bmi                 335.7993     28.556     11.759      0.000     279.779     391.819\n",
            "region__northwest  -384.9653    476.272     -0.808      0.419   -1319.293     549.363\n",
            "region__southeast -1020.9211    478.666     -2.133      0.033   -1959.946     -81.897\n",
            "region__southwest  -934.2236    477.338     -1.957      0.051   -1870.642       2.195\n",
            "smoker__yes        2.381e+04    412.352     57.744      0.000     2.3e+04    2.46e+04\n",
            "children__1         355.1625    418.789      0.848      0.397    -466.398    1176.723\n",
            "children__2        1602.9638    464.510      3.451      0.001     691.711    2514.217\n",
            "children__3         931.9387    546.300      1.706      0.088    -139.767    2003.644\n",
            "children__4        2904.9719   1237.569      2.347      0.019     477.166    5332.778\n",
            "==============================================================================\n",
            "Omnibus:                      293.178   Durbin-Watson:                   2.084\n",
            "Prob(Omnibus):                  0.000   Jarque-Bera (JB):              691.615\n",
            "Skew:                           1.189   Prob(JB):                    6.57e-151\n",
            "Kurtosis:                       5.598   Cond. No.                         385.\n",
            "==============================================================================\n",
            "\n",
            "Warnings:\n",
            "[1] Standard Errors assume that the covariance matrix of the errors is correctly specified.\n"
          ],
          "name": "stdout"
        }
      ]
    },
    {
      "cell_type": "code",
      "metadata": {
        "colab": {
          "base_uri": "https://localhost:8080/"
        },
        "id": "SV9RFcIub7aX",
        "outputId": "a6c56787-edc5-4b9f-f60e-c341a43ab41a"
      },
      "source": [
        "# model 4: removing the feature with highest p-value - region__northwest\n",
        "data_X_mod3 = data_X_mod2.drop([\"region__northwest\"], axis = 1)\n",
        "\n",
        "# account for intercept\n",
        "data_X_arr = sm.add_constant(data_X_mod3)\n",
        "\n",
        "model_mod3 = sm.OLS(data_Y, data_X_arr)\n",
        "results = model_mod3.fit()\n",
        "print(results.summary())"
      ],
      "execution_count": null,
      "outputs": [
        {
          "output_type": "stream",
          "text": [
            "                            OLS Regression Results                            \n",
            "==============================================================================\n",
            "Dep. Variable:                charges   R-squared:                       0.752\n",
            "Model:                            OLS   Adj. R-squared:                  0.750\n",
            "Method:                 Least Squares   F-statistic:                     446.7\n",
            "Date:                Mon, 31 May 2021   Prob (F-statistic):               0.00\n",
            "Time:                        17:20:06   Log-Likelihood:                -13546.\n",
            "No. Observations:                1338   AIC:                         2.711e+04\n",
            "Df Residuals:                    1328   BIC:                         2.716e+04\n",
            "Df Model:                           9                                         \n",
            "Covariance Type:            nonrobust                                         \n",
            "=====================================================================================\n",
            "                        coef    std err          t      P>|t|      [0.025      0.975]\n",
            "-------------------------------------------------------------------------------------\n",
            "const             -1.211e+04    953.154    -12.708      0.000    -1.4e+04   -1.02e+04\n",
            "age                 257.1596     11.901     21.609      0.000     233.813     280.506\n",
            "bmi                 335.7948     28.552     11.761      0.000     279.782     391.807\n",
            "region__southeast  -829.0036    415.572     -1.995      0.046   -1644.252     -13.755\n",
            "region__southwest  -741.6377    413.566     -1.793      0.073   -1552.952      69.676\n",
            "smoker__yes        2.382e+04    412.144     57.795      0.000     2.3e+04    2.46e+04\n",
            "children__1         351.4445    418.709      0.839      0.401    -469.959    1172.848\n",
            "children__2        1585.0531    463.920      3.417      0.001     674.957    2495.149\n",
            "children__3         917.1660    545.923      1.680      0.093    -153.799    1988.131\n",
            "children__4        2907.7614   1237.403      2.350      0.019     480.284    5335.239\n",
            "==============================================================================\n",
            "Omnibus:                      292.420   Durbin-Watson:                   2.087\n",
            "Prob(Omnibus):                  0.000   Jarque-Bera (JB):              686.935\n",
            "Skew:                           1.188   Prob(JB):                    6.82e-150\n",
            "Kurtosis:                       5.584   Cond. No.                         385.\n",
            "==============================================================================\n",
            "\n",
            "Warnings:\n",
            "[1] Standard Errors assume that the covariance matrix of the errors is correctly specified.\n"
          ],
          "name": "stdout"
        }
      ]
    },
    {
      "cell_type": "code",
      "metadata": {
        "colab": {
          "base_uri": "https://localhost:8080/"
        },
        "id": "N9Bj0HHwcJas",
        "outputId": "699b9e65-a336-4dee-d248-9e981eba9368"
      },
      "source": [
        "# model 5: removing the feature with highest p-value - children__1\n",
        "data_X_mod4 = data_X_mod3.drop([\"children__1\"], axis = 1)\n",
        "\n",
        "# account for intercept\n",
        "data_X_arr = sm.add_constant(data_X_mod4)\n",
        "\n",
        "model_mod4 = sm.OLS(data_Y, data_X_arr)\n",
        "results = model_mod4.fit()\n",
        "print(results.summary())"
      ],
      "execution_count": null,
      "outputs": [
        {
          "output_type": "stream",
          "text": [
            "                            OLS Regression Results                            \n",
            "==============================================================================\n",
            "Dep. Variable:                charges   R-squared:                       0.752\n",
            "Model:                            OLS   Adj. R-squared:                  0.750\n",
            "Method:                 Least Squares   F-statistic:                     502.5\n",
            "Date:                Mon, 31 May 2021   Prob (F-statistic):               0.00\n",
            "Time:                        17:20:46   Log-Likelihood:                -13546.\n",
            "No. Observations:                1338   AIC:                         2.711e+04\n",
            "Df Residuals:                    1329   BIC:                         2.716e+04\n",
            "Df Model:                           8                                         \n",
            "Covariance Type:            nonrobust                                         \n",
            "=====================================================================================\n",
            "                        coef    std err          t      P>|t|      [0.025      0.975]\n",
            "-------------------------------------------------------------------------------------\n",
            "const               -1.2e+04    943.597    -12.717      0.000   -1.39e+04   -1.01e+04\n",
            "age                 257.4672     11.894     21.647      0.000     234.135     280.800\n",
            "bmi                 335.7632     28.549     11.761      0.000     279.757     391.770\n",
            "region__southeast  -823.6660    415.477     -1.982      0.048   -1638.728      -8.604\n",
            "region__southwest  -741.6794    413.520     -1.794      0.073   -1552.903      69.544\n",
            "smoker__yes        2.382e+04    412.086     57.797      0.000     2.3e+04    2.46e+04\n",
            "children__2        1460.6736    439.568      3.323      0.001     598.351    2322.997\n",
            "children__3         792.4548    525.256      1.509      0.132    -237.967    1822.877\n",
            "children__4        2783.6383   1228.398      2.266      0.024     373.827    5193.449\n",
            "==============================================================================\n",
            "Omnibus:                      294.151   Durbin-Watson:                   2.085\n",
            "Prob(Omnibus):                  0.000   Jarque-Bera (JB):              693.651\n",
            "Skew:                           1.193   Prob(JB):                    2.37e-151\n",
            "Kurtosis:                       5.598   Cond. No.                         381.\n",
            "==============================================================================\n",
            "\n",
            "Warnings:\n",
            "[1] Standard Errors assume that the covariance matrix of the errors is correctly specified.\n"
          ],
          "name": "stdout"
        }
      ]
    },
    {
      "cell_type": "code",
      "metadata": {
        "colab": {
          "base_uri": "https://localhost:8080/"
        },
        "id": "lez_tkSjcSAb",
        "outputId": "2b97683a-f734-4a64-adcc-f014da99374e"
      },
      "source": [
        "# model 6: removing the feature with highest p-value - children__3\n",
        "data_X_mod5 = data_X_mod4.drop([\"children__3\"], axis = 1)\n",
        "\n",
        "# account for intercept\n",
        "data_X_arr = sm.add_constant(data_X_mod5)\n",
        "\n",
        "model_mod5 = sm.OLS(data_Y, data_X_arr)\n",
        "results = model_mod5.fit()\n",
        "print(results.summary())"
      ],
      "execution_count": null,
      "outputs": [
        {
          "output_type": "stream",
          "text": [
            "                            OLS Regression Results                            \n",
            "==============================================================================\n",
            "Dep. Variable:                charges   R-squared:                       0.751\n",
            "Model:                            OLS   Adj. R-squared:                  0.750\n",
            "Method:                 Least Squares   F-statistic:                     573.4\n",
            "Date:                Mon, 31 May 2021   Prob (F-statistic):               0.00\n",
            "Time:                        17:21:30   Log-Likelihood:                -13547.\n",
            "No. Observations:                1338   AIC:                         2.711e+04\n",
            "Df Residuals:                    1330   BIC:                         2.715e+04\n",
            "Df Model:                           7                                         \n",
            "Covariance Type:            nonrobust                                         \n",
            "=====================================================================================\n",
            "                        coef    std err          t      P>|t|      [0.025      0.975]\n",
            "-------------------------------------------------------------------------------------\n",
            "const             -1.194e+04    943.217    -12.659      0.000   -1.38e+04   -1.01e+04\n",
            "age                 258.5879     11.876     21.774      0.000     235.290     281.886\n",
            "bmi                 336.3734     28.560     11.778      0.000     280.346     392.401\n",
            "region__southeast  -855.7845    415.130     -2.061      0.039   -1670.166     -41.404\n",
            "region__southwest  -756.3393    413.604     -1.829      0.068   -1567.727      55.048\n",
            "smoker__yes        2.385e+04    411.812     57.907      0.000     2.3e+04    2.47e+04\n",
            "children__2        1343.3048    432.837      3.103      0.002     494.188    2192.422\n",
            "children__4        2667.9766   1226.592      2.175      0.030     261.711    5074.242\n",
            "==============================================================================\n",
            "Omnibus:                      290.501   Durbin-Watson:                   2.080\n",
            "Prob(Omnibus):                  0.000   Jarque-Bera (JB):              678.120\n",
            "Skew:                           1.183   Prob(JB):                    5.60e-148\n",
            "Kurtosis:                       5.562   Cond. No.                         380.\n",
            "==============================================================================\n",
            "\n",
            "Warnings:\n",
            "[1] Standard Errors assume that the covariance matrix of the errors is correctly specified.\n"
          ],
          "name": "stdout"
        }
      ]
    },
    {
      "cell_type": "code",
      "metadata": {
        "colab": {
          "base_uri": "https://localhost:8080/"
        },
        "id": "dPjnxjHTcd2e",
        "outputId": "c9e16120-b5b7-42b2-f292-00cac2312e2b"
      },
      "source": [
        "# model 7: removing the feature with highest p-value - region__southwest\n",
        "data_X_mod6 = data_X_mod5.drop([\"region__southwest\"], axis = 1)\n",
        "\n",
        "# account for intercept\n",
        "data_X_arr = sm.add_constant(data_X_mod6)\n",
        "\n",
        "model_mod6 = sm.OLS(data_Y, data_X_arr)\n",
        "results = model_mod6.fit()\n",
        "print(results.summary())"
      ],
      "execution_count": null,
      "outputs": [
        {
          "output_type": "stream",
          "text": [
            "                            OLS Regression Results                            \n",
            "==============================================================================\n",
            "Dep. Variable:                charges   R-squared:                       0.750\n",
            "Model:                            OLS   Adj. R-squared:                  0.749\n",
            "Method:                 Least Squares   F-statistic:                     667.3\n",
            "Date:                Mon, 31 May 2021   Prob (F-statistic):               0.00\n",
            "Time:                        17:22:29   Log-Likelihood:                -13549.\n",
            "No. Observations:                1338   AIC:                         2.711e+04\n",
            "Df Residuals:                    1331   BIC:                         2.715e+04\n",
            "Df Model:                           6                                         \n",
            "Covariance Type:            nonrobust                                         \n",
            "=====================================================================================\n",
            "                        coef    std err          t      P>|t|      [0.025      0.975]\n",
            "-------------------------------------------------------------------------------------\n",
            "const             -1.205e+04    942.123    -12.790      0.000   -1.39e+04   -1.02e+04\n",
            "age                 258.7008     11.887     21.764      0.000     235.382     282.019\n",
            "bmi                 331.3347     28.452     11.645      0.000     275.520     387.150\n",
            "region__southeast  -585.3584    388.238     -1.508      0.132   -1346.983     176.266\n",
            "smoker__yes        2.386e+04    412.142     57.884      0.000     2.3e+04    2.47e+04\n",
            "children__2        1348.8552    433.207      3.114      0.002     499.012    2198.698\n",
            "children__4        2664.8303   1227.670      2.171      0.030     256.451    5073.210\n",
            "==============================================================================\n",
            "Omnibus:                      293.613   Durbin-Watson:                   2.078\n",
            "Prob(Omnibus):                  0.000   Jarque-Bera (JB):              688.827\n",
            "Skew:                           1.193   Prob(JB):                    2.65e-150\n",
            "Kurtosis:                       5.581   Cond. No.                         380.\n",
            "==============================================================================\n",
            "\n",
            "Warnings:\n",
            "[1] Standard Errors assume that the covariance matrix of the errors is correctly specified.\n"
          ],
          "name": "stdout"
        }
      ]
    },
    {
      "cell_type": "code",
      "metadata": {
        "colab": {
          "base_uri": "https://localhost:8080/"
        },
        "id": "WK8VOAn4csQE",
        "outputId": "50acd6a6-e923-4e73-ed57-3d34f96778d9"
      },
      "source": [
        "# model 8: removing the feature with highest p-value - region__southeast\n",
        "data_X_mod7 = data_X_mod6.drop([\"region__southeast\"], axis = 1)\n",
        "\n",
        "# account for intercept\n",
        "data_X_arr = sm.add_constant(data_X_mod7)\n",
        "\n",
        "model_mod7 = sm.OLS(data_Y, data_X_arr)\n",
        "results = model_mod7.fit()\n",
        "print(results.summary())"
      ],
      "execution_count": null,
      "outputs": [
        {
          "output_type": "stream",
          "text": [
            "                            OLS Regression Results                            \n",
            "==============================================================================\n",
            "Dep. Variable:                charges   R-squared:                       0.750\n",
            "Model:                            OLS   Adj. R-squared:                  0.749\n",
            "Method:                 Least Squares   F-statistic:                     799.5\n",
            "Date:                Mon, 31 May 2021   Prob (F-statistic):               0.00\n",
            "Time:                        17:23:45   Log-Likelihood:                -13550.\n",
            "No. Observations:                1338   AIC:                         2.711e+04\n",
            "Df Residuals:                    1332   BIC:                         2.714e+04\n",
            "Df Model:                           5                                         \n",
            "Covariance Type:            nonrobust                                         \n",
            "===============================================================================\n",
            "                  coef    std err          t      P>|t|      [0.025      0.975]\n",
            "-------------------------------------------------------------------------------\n",
            "const       -1.187e+04    935.091    -12.696      0.000   -1.37e+04      -1e+04\n",
            "age           259.4430     11.882     21.835      0.000     236.133     282.752\n",
            "bmi           319.5948     27.379     11.673      0.000     265.885     373.305\n",
            "smoker__yes  2.381e+04    411.371     57.889      0.000     2.3e+04    2.46e+04\n",
            "children__2  1353.4156    433.404      3.123      0.002     503.188    2203.644\n",
            "children__4  2713.8279   1227.826      2.210      0.027     305.144    5122.512\n",
            "==============================================================================\n",
            "Omnibus:                      291.965   Durbin-Watson:                   2.076\n",
            "Prob(Omnibus):                  0.000   Jarque-Bera (JB):              683.559\n",
            "Skew:                           1.188   Prob(JB):                    3.69e-149\n",
            "Kurtosis:                       5.573   Cond. No.                         380.\n",
            "==============================================================================\n",
            "\n",
            "Warnings:\n",
            "[1] Standard Errors assume that the covariance matrix of the errors is correctly specified.\n"
          ],
          "name": "stdout"
        }
      ]
    },
    {
      "cell_type": "markdown",
      "metadata": {
        "id": "dE9zAYu6dD9q"
      },
      "source": [
        "##### Observation\n",
        "1. We end up with age, bmi, smoker and children as the significant features\n",
        "2. The adjusted r-squared value for the final model is 74.9 which is very close to what we observed at the beginning"
      ]
    },
    {
      "cell_type": "markdown",
      "metadata": {
        "id": "g55LdF5SdqrP"
      },
      "source": [
        "##### Will transformation of features help in improving the adjusted r-squared metrics?"
      ]
    },
    {
      "cell_type": "code",
      "metadata": {
        "id": "QI0X6Unpc-z_"
      },
      "source": [
        "# try min_max_scaler\n",
        "data_X_min_max = MinMaxScaler().fit_transform(data_X_mod7)\n",
        "# try standard scaler\n",
        "data_X_std = StandardScaler().fit_transform(data_X_mod7)\n",
        "# try robust scaler\n",
        "data_X_robust = RobustScaler().fit_transform(data_X_mod7)"
      ],
      "execution_count": null,
      "outputs": []
    },
    {
      "cell_type": "markdown",
      "metadata": {
        "id": "7YBreCj1emLd"
      },
      "source": [
        "###### min_max scaler"
      ]
    },
    {
      "cell_type": "code",
      "metadata": {
        "colab": {
          "base_uri": "https://localhost:8080/"
        },
        "id": "CcIKNhiNeFy1",
        "outputId": "1afbc203-2fe4-4a66-8179-199cf419d809"
      },
      "source": [
        "# with min_max_scaler\n",
        "# account for intercept\n",
        "data_X_arr = sm.add_constant(data_X_min_max)\n",
        "\n",
        "model_min_max = sm.OLS(data_Y, data_X_arr)\n",
        "results = model_min_max.fit()\n",
        "print(results.summary())"
      ],
      "execution_count": null,
      "outputs": [
        {
          "output_type": "stream",
          "text": [
            "                            OLS Regression Results                            \n",
            "==============================================================================\n",
            "Dep. Variable:                charges   R-squared:                       0.750\n",
            "Model:                            OLS   Adj. R-squared:                  0.749\n",
            "Method:                 Least Squares   F-statistic:                     799.5\n",
            "Date:                Mon, 31 May 2021   Prob (F-statistic):               0.00\n",
            "Time:                        17:29:19   Log-Likelihood:                -13550.\n",
            "No. Observations:                1338   AIC:                         2.711e+04\n",
            "Df Residuals:                    1332   BIC:                         2.714e+04\n",
            "Df Model:                           5                                         \n",
            "Covariance Type:            nonrobust                                         \n",
            "==============================================================================\n",
            "                 coef    std err          t      P>|t|      [0.025      0.975]\n",
            "------------------------------------------------------------------------------\n",
            "const      -2100.8629    493.101     -4.261      0.000   -3068.203   -1133.523\n",
            "x1          1.193e+04    546.573     21.835      0.000    1.09e+04     1.3e+04\n",
            "x2          1.188e+04   1017.664     11.673      0.000    9882.940    1.39e+04\n",
            "x3          2.381e+04    411.371     57.889      0.000     2.3e+04    2.46e+04\n",
            "x4          1353.4156    433.404      3.123      0.002     503.188    2203.644\n",
            "x5          2713.8279   1227.826      2.210      0.027     305.144    5122.512\n",
            "==============================================================================\n",
            "Omnibus:                      291.965   Durbin-Watson:                   2.076\n",
            "Prob(Omnibus):                  0.000   Jarque-Bera (JB):              683.559\n",
            "Skew:                           1.188   Prob(JB):                    3.69e-149\n",
            "Kurtosis:                       5.573   Cond. No.                         8.99\n",
            "==============================================================================\n",
            "\n",
            "Warnings:\n",
            "[1] Standard Errors assume that the covariance matrix of the errors is correctly specified.\n"
          ],
          "name": "stdout"
        }
      ]
    },
    {
      "cell_type": "markdown",
      "metadata": {
        "id": "Nb_xU7NhepuK"
      },
      "source": [
        "###### standard scaler"
      ]
    },
    {
      "cell_type": "code",
      "metadata": {
        "colab": {
          "base_uri": "https://localhost:8080/"
        },
        "id": "fBBjLJ3PeQZr",
        "outputId": "a64c95de-30ff-4b1a-f06f-c243e46a30c8"
      },
      "source": [
        "# account for intercept\n",
        "data_X_arr = sm.add_constant(data_X_std)\n",
        "\n",
        "model_std = sm.OLS(data_Y, data_X_arr)\n",
        "results = model_std.fit()\n",
        "print(results.summary())"
      ],
      "execution_count": null,
      "outputs": [
        {
          "output_type": "stream",
          "text": [
            "                            OLS Regression Results                            \n",
            "==============================================================================\n",
            "Dep. Variable:                charges   R-squared:                       0.750\n",
            "Model:                            OLS   Adj. R-squared:                  0.749\n",
            "Method:                 Least Squares   F-statistic:                     799.5\n",
            "Date:                Mon, 31 May 2021   Prob (F-statistic):               0.00\n",
            "Time:                        17:31:27   Log-Likelihood:                -13550.\n",
            "No. Observations:                1338   AIC:                         2.711e+04\n",
            "Df Residuals:                    1332   BIC:                         2.714e+04\n",
            "Df Model:                           5                                         \n",
            "Covariance Type:            nonrobust                                         \n",
            "==============================================================================\n",
            "                 coef    std err          t      P>|t|      [0.025      0.975]\n",
            "------------------------------------------------------------------------------\n",
            "const       1.327e+04    165.822     80.028      0.000    1.29e+04    1.36e+04\n",
            "x1          3643.8008    166.880     21.835      0.000    3316.425    3971.176\n",
            "x2          1948.2204    166.898     11.673      0.000    1620.809    2275.631\n",
            "x3          9609.9017    166.006     57.889      0.000    9284.240    9935.563\n",
            "x4           519.2564    166.281      3.123      0.002     193.055     845.458\n",
            "x5           367.4756    166.258      2.210      0.027      41.319     693.632\n",
            "==============================================================================\n",
            "Omnibus:                      291.965   Durbin-Watson:                   2.076\n",
            "Prob(Omnibus):                  0.000   Jarque-Bera (JB):              683.559\n",
            "Skew:                           1.188   Prob(JB):                    3.69e-149\n",
            "Kurtosis:                       5.573   Cond. No.                         1.12\n",
            "==============================================================================\n",
            "\n",
            "Warnings:\n",
            "[1] Standard Errors assume that the covariance matrix of the errors is correctly specified.\n"
          ],
          "name": "stdout"
        }
      ]
    },
    {
      "cell_type": "markdown",
      "metadata": {
        "id": "dLNpY9lkexEw"
      },
      "source": [
        "###### robust scaler"
      ]
    },
    {
      "cell_type": "code",
      "metadata": {
        "colab": {
          "base_uri": "https://localhost:8080/"
        },
        "id": "noU_0wTUevhv",
        "outputId": "18aadeed-e463-443b-8cbb-db77d331f6e5"
      },
      "source": [
        "# account for intercept\n",
        "data_X_arr = sm.add_constant(data_X_robust)\n",
        "\n",
        "model_robust = sm.OLS(data_Y, data_X_arr)\n",
        "results = model_robust.fit()\n",
        "print(results.summary())"
      ],
      "execution_count": null,
      "outputs": [
        {
          "output_type": "stream",
          "text": [
            "                            OLS Regression Results                            \n",
            "==============================================================================\n",
            "Dep. Variable:                charges   R-squared:                       0.750\n",
            "Model:                            OLS   Adj. R-squared:                  0.749\n",
            "Method:                 Least Squares   F-statistic:                     799.5\n",
            "Date:                Mon, 31 May 2021   Prob (F-statistic):               0.00\n",
            "Time:                        17:31:51   Log-Likelihood:                -13550.\n",
            "No. Observations:                1338   AIC:                         2.711e+04\n",
            "Df Residuals:                    1332   BIC:                         2.714e+04\n",
            "Df Model:                           5                                         \n",
            "Covariance Type:            nonrobust                                         \n",
            "==============================================================================\n",
            "                 coef    std err          t      P>|t|      [0.025      0.975]\n",
            "------------------------------------------------------------------------------\n",
            "const       7962.3883    202.912     39.241      0.000    7564.327    8360.449\n",
            "x1          6226.6309    285.169     21.835      0.000    5667.202    6786.060\n",
            "x2          2683.7974    229.912     11.673      0.000    2232.768    3134.827\n",
            "x3          2.381e+04    411.371     57.889      0.000     2.3e+04    2.46e+04\n",
            "x4          1353.4156    433.404      3.123      0.002     503.188    2203.644\n",
            "x5          2713.8279   1227.826      2.210      0.027     305.144    5122.512\n",
            "==============================================================================\n",
            "Omnibus:                      291.965   Durbin-Watson:                   2.076\n",
            "Prob(Omnibus):                  0.000   Jarque-Bera (JB):              683.559\n",
            "Skew:                           1.188   Prob(JB):                    3.69e-149\n",
            "Kurtosis:                       5.573   Cond. No.                         7.73\n",
            "==============================================================================\n",
            "\n",
            "Warnings:\n",
            "[1] Standard Errors assume that the covariance matrix of the errors is correctly specified.\n"
          ],
          "name": "stdout"
        }
      ]
    },
    {
      "cell_type": "markdown",
      "metadata": {
        "id": "CBtoSYRMe_Ij"
      },
      "source": [
        "##### Observation\n",
        "\n",
        "None of the scalers helped in improving the metrics. However, the coefficients got converted into a comparable range"
      ]
    },
    {
      "cell_type": "markdown",
      "metadata": {
        "id": "TfkKTPcdfPvf"
      },
      "source": [
        "###### applying log on the target variable\n"
      ]
    },
    {
      "cell_type": "code",
      "metadata": {
        "colab": {
          "base_uri": "https://localhost:8080/"
        },
        "id": "UjzjlyqZe1gR",
        "outputId": "196f9e8e-651d-4444-9942-af5ce187dc39"
      },
      "source": [
        "# account for intercept\n",
        "data_X_arr = sm.add_constant(data_X_robust)\n",
        "\n",
        "model_robust_target_transformed = sm.OLS(logged_y, data_X_arr)\n",
        "results = model_robust_target_transformed.fit()\n",
        "print(results.summary())"
      ],
      "execution_count": null,
      "outputs": [
        {
          "output_type": "stream",
          "text": [
            "                            OLS Regression Results                            \n",
            "==============================================================================\n",
            "Dep. Variable:                charges   R-squared:                       0.755\n",
            "Model:                            OLS   Adj. R-squared:                  0.754\n",
            "Method:                 Least Squares   F-statistic:                     818.8\n",
            "Date:                Mon, 31 May 2021   Prob (F-statistic):               0.00\n",
            "Time:                        17:34:33   Log-Likelihood:                -845.97\n",
            "No. Observations:                1338   AIC:                             1704.\n",
            "Df Residuals:                    1332   BIC:                             1735.\n",
            "Df Model:                           5                                         \n",
            "Covariance Type:            nonrobust                                         \n",
            "==============================================================================\n",
            "                 coef    std err          t      P>|t|      [0.025      0.975]\n",
            "------------------------------------------------------------------------------\n",
            "const          8.7298      0.015    571.792      0.000       8.700       8.760\n",
            "x1             0.8430      0.021     39.289      0.000       0.801       0.885\n",
            "x2             0.0867      0.017      5.012      0.000       0.053       0.121\n",
            "x3             1.5447      0.031     49.907      0.000       1.484       1.605\n",
            "x4             0.1930      0.033      5.917      0.000       0.129       0.257\n",
            "x5             0.4337      0.092      4.695      0.000       0.252       0.615\n",
            "==============================================================================\n",
            "Omnibus:                      371.858   Durbin-Watson:                   2.025\n",
            "Prob(Omnibus):                  0.000   Jarque-Bera (JB):             1121.030\n",
            "Skew:                           1.392   Prob(JB):                    3.73e-244\n",
            "Kurtosis:                       6.515   Cond. No.                         7.73\n",
            "==============================================================================\n",
            "\n",
            "Warnings:\n",
            "[1] Standard Errors assume that the covariance matrix of the errors is correctly specified.\n"
          ],
          "name": "stdout"
        }
      ]
    },
    {
      "cell_type": "markdown",
      "metadata": {
        "id": "VCUCUfVAfh3A"
      },
      "source": [
        "###### applying box-cox on the target variable"
      ]
    },
    {
      "cell_type": "code",
      "metadata": {
        "colab": {
          "base_uri": "https://localhost:8080/"
        },
        "id": "tiukBWRufdH9",
        "outputId": "0ec5f55e-e1eb-4cef-e02f-14216ddbdfd2"
      },
      "source": [
        "# account for intercept\n",
        "data_X_arr = sm.add_constant(data_X_robust)\n",
        "\n",
        "model_robust_target_transformed = sm.OLS(box_cox_y, data_X_arr)\n",
        "results = model_robust_target_transformed.fit()\n",
        "print(results.summary())"
      ],
      "execution_count": null,
      "outputs": [
        {
          "output_type": "stream",
          "text": [
            "                            OLS Regression Results                            \n",
            "==============================================================================\n",
            "Dep. Variable:                      y   R-squared:                       0.759\n",
            "Model:                            OLS   Adj. R-squared:                  0.758\n",
            "Method:                 Least Squares   F-statistic:                     837.0\n",
            "Date:                Mon, 31 May 2021   Prob (F-statistic):               0.00\n",
            "Time:                        17:35:53   Log-Likelihood:                -947.79\n",
            "No. Observations:                1338   AIC:                             1908.\n",
            "Df Residuals:                    1332   BIC:                             1939.\n",
            "Df Model:                           5                                         \n",
            "Covariance Type:            nonrobust                                         \n",
            "==============================================================================\n",
            "                 coef    std err          t      P>|t|      [0.025      0.975]\n",
            "------------------------------------------------------------------------------\n",
            "const         -0.4054      0.016    -24.608      0.000      -0.438      -0.373\n",
            "x1             0.9013      0.023     38.927      0.000       0.856       0.947\n",
            "x2             0.1001      0.019      5.362      0.000       0.063       0.137\n",
            "x3             1.7054      0.033     51.059      0.000       1.640       1.771\n",
            "x4             0.2042      0.035      5.804      0.000       0.135       0.273\n",
            "x5             0.4623      0.100      4.637      0.000       0.267       0.658\n",
            "==============================================================================\n",
            "Omnibus:                      394.764   Durbin-Watson:                   2.029\n",
            "Prob(Omnibus):                  0.000   Jarque-Bera (JB):             1217.960\n",
            "Skew:                           1.472   Prob(JB):                    3.34e-265\n",
            "Kurtosis:                       6.631   Cond. No.                         7.73\n",
            "==============================================================================\n",
            "\n",
            "Warnings:\n",
            "[1] Standard Errors assume that the covariance matrix of the errors is correctly specified.\n"
          ],
          "name": "stdout"
        }
      ]
    },
    {
      "cell_type": "markdown",
      "metadata": {
        "id": "MkzkcriTf0t_"
      },
      "source": [
        "##### Observation\n",
        "\n",
        "Both log transformation and box-cox transformation of the target variable helped in improving the adjusted r-quared metrics. But clearly, box-cox transformation helped in improving the metrics more than log transformation"
      ]
    },
    {
      "cell_type": "markdown",
      "metadata": {
        "id": "q4P5ZbD6govN"
      },
      "source": [
        "#### Can intuition beat the scores?"
      ]
    },
    {
      "cell_type": "markdown",
      "metadata": {
        "id": "3ozCu8CkhCFx"
      },
      "source": [
        "Based on our observations listed in the beginning of this notebook, we can remove the features sex and region altogether. Clearly, the effect of bmi and age is driven majorly by the smoker status. So, it can be interesting to add interaction terms for bmi and smoker, and age and smoker.\n",
        "\n",
        "Will this knowledge about the data help us in modeling the relation any better?"
      ]
    },
    {
      "cell_type": "code",
      "metadata": {
        "colab": {
          "base_uri": "https://localhost:8080/"
        },
        "id": "8Yucwh60fwoU",
        "outputId": "f7ea039c-03fd-497e-e4c2-01f3a5f68782"
      },
      "source": [
        "data_X = data.drop([\"charges\", \"sex\"], axis = 1)\n",
        "data_X = pd.get_dummies(data_X, columns=[\"region\", \"children\", \"smoker\"], prefix=[\"region_\", \"children_\", \"smoker_\"], drop_first=True)\n",
        "data_X[\"bmi_smoker_interaction\"] = data_X[\"bmi\"] * data_X[\"smoker__yes\"]\n",
        "data_X[\"age_smoker_interaction\"] = data_X[\"age\"] * data_X[\"smoker__yes\"]\n",
        "print(data_X.columns)\n",
        "data_X = StandardScaler().fit_transform(data_X)\n",
        "# account for intercept\n",
        "data_X_arr = sm.add_constant(data_X) \n",
        "\n",
        "model_new1 = sm.OLS(box_cox_y, data_X_arr)\n",
        "results = model_new1.fit()\n",
        "print(results.summary())"
      ],
      "execution_count": null,
      "outputs": [
        {
          "output_type": "stream",
          "text": [
            "Index(['age', 'bmi', 'region__northwest', 'region__southeast',\n",
            "       'region__southwest', 'children__1', 'children__2', 'children__3',\n",
            "       'children__4', 'children__5', 'smoker__yes', 'bmi_smoker_interaction',\n",
            "       'age_smoker_interaction'],\n",
            "      dtype='object')\n",
            "                            OLS Regression Results                            \n",
            "==============================================================================\n",
            "Dep. Variable:                      y   R-squared:                       0.826\n",
            "Model:                            OLS   Adj. R-squared:                  0.825\n",
            "Method:                 Least Squares   F-statistic:                     485.1\n",
            "Date:                Mon, 31 May 2021   Prob (F-statistic):               0.00\n",
            "Time:                        17:45:17   Log-Likelihood:                -726.79\n",
            "No. Observations:                1338   AIC:                             1482.\n",
            "Df Residuals:                    1324   BIC:                             1554.\n",
            "Df Model:                          13                                         \n",
            "Covariance Type:            nonrobust                                         \n",
            "==============================================================================\n",
            "                 coef    std err          t      P>|t|      [0.025      0.975]\n",
            "------------------------------------------------------------------------------\n",
            "const      -1.253e-16      0.011  -1.09e-14      1.000      -0.022       0.022\n",
            "x1             0.6242      0.013     48.188      0.000       0.599       0.650\n",
            "x2             0.0065      0.014      0.484      0.629      -0.020       0.033\n",
            "x3            -0.0304      0.014     -2.155      0.031      -0.058      -0.003\n",
            "x4            -0.0698      0.015     -4.734      0.000      -0.099      -0.041\n",
            "x5            -0.0694      0.014     -4.896      0.000      -0.097      -0.042\n",
            "x6             0.0685      0.012      5.486      0.000       0.044       0.093\n",
            "x7             0.1167      0.012      9.426      0.000       0.092       0.141\n",
            "x8             0.0860      0.012      7.055      0.000       0.062       0.110\n",
            "x9             0.0727      0.012      6.269      0.000       0.050       0.095\n",
            "x10            0.0582      0.012      5.017      0.000       0.035       0.081\n",
            "x11            0.5286      0.064      8.283      0.000       0.403       0.654\n",
            "x12            0.7250      0.058     12.510      0.000       0.611       0.839\n",
            "x13           -0.5861      0.034    -17.074      0.000      -0.653      -0.519\n",
            "==============================================================================\n",
            "Omnibus:                      850.359   Durbin-Watson:                   1.997\n",
            "Prob(Omnibus):                  0.000   Jarque-Bera (JB):             7819.085\n",
            "Skew:                           2.937   Prob(JB):                         0.00\n",
            "Kurtosis:                      13.284   Cond. No.                         12.4\n",
            "==============================================================================\n",
            "\n",
            "Warnings:\n",
            "[1] Standard Errors assume that the covariance matrix of the errors is correctly specified.\n"
          ],
          "name": "stdout"
        }
      ]
    },
    {
      "cell_type": "code",
      "metadata": {
        "colab": {
          "base_uri": "https://localhost:8080/"
        },
        "id": "11_7LUWhh6Kx",
        "outputId": "9744e4cf-6c4d-45b1-d679-026f86ada333"
      },
      "source": [
        "data_X = data.drop([\"charges\", \"sex\", \"region\"], axis = 1)\n",
        "data_X = pd.get_dummies(data_X, columns=[\"children\", \"smoker\"], prefix=[\"children_\", \"smoker_\"], drop_first=True)\n",
        "data_X[\"bmi_smoker_interaction\"] = data_X[\"bmi\"] * data_X[\"smoker__yes\"]\n",
        "data_X[\"age_smoker_interaction\"] = data_X[\"age\"] * data_X[\"smoker__yes\"]\n",
        "data_X = data_X.drop(\"bmi\", axis = 1)\n",
        "print(data_X.columns)\n",
        "data_X = StandardScaler().fit_transform(data_X)\n",
        "# account for intercept\n",
        "data_X_arr = sm.add_constant(data_X) \n",
        "\n",
        "model_new1 = sm.OLS(logged_y, data_X_arr)\n",
        "results = model_new1.fit()\n",
        "print(results.summary())"
      ],
      "execution_count": null,
      "outputs": [
        {
          "output_type": "stream",
          "text": [
            "Index(['age', 'children__1', 'children__2', 'children__3', 'children__4',\n",
            "       'children__5', 'smoker__yes', 'bmi_smoker_interaction',\n",
            "       'age_smoker_interaction'],\n",
            "      dtype='object')\n",
            "                            OLS Regression Results                            \n",
            "==============================================================================\n",
            "Dep. Variable:                charges   R-squared:                       0.821\n",
            "Model:                            OLS   Adj. R-squared:                  0.819\n",
            "Method:                 Least Squares   F-statistic:                     674.7\n",
            "Date:                Mon, 31 May 2021   Prob (F-statistic):               0.00\n",
            "Time:                        17:46:48   Log-Likelihood:                -636.37\n",
            "No. Observations:                1338   AIC:                             1293.\n",
            "Df Residuals:                    1328   BIC:                             1345.\n",
            "Df Model:                           9                                         \n",
            "Covariance Type:            nonrobust                                         \n",
            "==============================================================================\n",
            "                 coef    std err          t      P>|t|      [0.025      0.975]\n",
            "------------------------------------------------------------------------------\n",
            "const          9.0988      0.011    851.657      0.000       9.078       9.120\n",
            "x1             0.5862      0.012     48.936      0.000       0.563       0.610\n",
            "x2             0.0654      0.012      5.619      0.000       0.043       0.088\n",
            "x3             0.1103      0.012      9.564      0.000       0.088       0.133\n",
            "x4             0.0836      0.011      7.361      0.000       0.061       0.106\n",
            "x5             0.0689      0.011      6.372      0.000       0.048       0.090\n",
            "x6             0.0521      0.011      4.831      0.000       0.031       0.073\n",
            "x7             0.5474      0.055      9.973      0.000       0.440       0.655\n",
            "x8             0.6132      0.048     12.851      0.000       0.520       0.707\n",
            "x9            -0.5602      0.032    -17.544      0.000      -0.623      -0.498\n",
            "==============================================================================\n",
            "Omnibus:                      823.787   Durbin-Watson:                   1.997\n",
            "Prob(Omnibus):                  0.000   Jarque-Bera (JB):             7349.290\n",
            "Skew:                           2.824   Prob(JB):                         0.00\n",
            "Kurtosis:                      12.997   Cond. No.                         11.2\n",
            "==============================================================================\n",
            "\n",
            "Warnings:\n",
            "[1] Standard Errors assume that the covariance matrix of the errors is correctly specified.\n"
          ],
          "name": "stdout"
        }
      ]
    },
    {
      "cell_type": "markdown",
      "metadata": {
        "id": "ipzgRR0liSdZ"
      },
      "source": [
        "#### Observation\n",
        "\n",
        "1. Our intuition clearly worked much better than the methodical approach. We achieved an adjusted r-squared value of 0.819\n",
        "2. Adding interaction terms helped in modeling better as it encoded the practical relations among the features\n",
        "3. The bmi data had no more significance once the interaction term with smoker was captured\n",
        "4. All the coefficients are positive signifying a positive impact on the target variable. However, the age-smoker interaction coefficient is negative, probably implying that the effect of smoker status decreases for younger ages"
      ]
    },
    {
      "cell_type": "code",
      "metadata": {
        "id": "A6VvoauhiQW0"
      },
      "source": [
        ""
      ],
      "execution_count": null,
      "outputs": []
    }
  ]
}