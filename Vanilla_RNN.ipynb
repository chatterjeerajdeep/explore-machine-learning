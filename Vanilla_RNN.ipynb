{
  "nbformat": 4,
  "nbformat_minor": 0,
  "metadata": {
    "colab": {
      "name": "Untitled14.ipynb",
      "provenance": [],
      "authorship_tag": "ABX9TyNiu6CVOyeErtF1Jtw1CPBk",
      "include_colab_link": true
    },
    "kernelspec": {
      "name": "python3",
      "display_name": "Python 3"
    },
    "language_info": {
      "name": "python"
    }
  },
  "cells": [
    {
      "cell_type": "markdown",
      "metadata": {
        "id": "view-in-github",
        "colab_type": "text"
      },
      "source": [
        "<a href=\"https://colab.research.google.com/github/chatterjeerajdeep/explore-machine-learning/blob/main/Vanilla_RNN.ipynb\" target=\"_parent\"><img src=\"https://colab.research.google.com/assets/colab-badge.svg\" alt=\"Open In Colab\"/></a>"
      ]
    },
    {
      "cell_type": "code",
      "metadata": {
        "id": "GnUS7dGfAYAL"
      },
      "source": [
        "from tensorflow.keras.models import Sequential\n",
        "from tensorflow.keras.layers import Dense, SimpleRNN\n",
        "import math\n",
        "import numpy as np"
      ],
      "execution_count": 1,
      "outputs": []
    },
    {
      "cell_type": "markdown",
      "metadata": {
        "id": "jnPy_38cogSP"
      },
      "source": [
        "My idea here is to implement a simple RNN architecture and realise the idea of how to process sequences."
      ]
    },
    {
      "cell_type": "code",
      "metadata": {
        "id": "YaKKGf0_Dbjs"
      },
      "source": [
        "# Create a sequence - I chose to create a sequence of squares of numbers\n",
        "squares = [x*x for x in range(200)]"
      ],
      "execution_count": 2,
      "outputs": []
    },
    {
      "cell_type": "code",
      "metadata": {
        "id": "a--ACuODDf-e"
      },
      "source": [
        "# Let each of my sequences have 50 data points each and the output is the 51st data point\n",
        "sequence_len = 50\n",
        "\n",
        "X_train = []\n",
        "y_train = []\n",
        "\n",
        "# X_train is a batch of 100, where each batch has 50 data points\n",
        "# y_train is also a batch of 100, where each batch has 1 data point\n",
        "for i in range(0,100):\n",
        "    X_train.append(squares[i:i+sequence_len])\n",
        "    y_train.append(squares[i+sequence_len])\n",
        "  \n",
        "X_train = np.array(X_train)\n",
        "X_train = np.expand_dims(X_train, axis=2)\n",
        "\n",
        "y_train = np.array(y_train)\n",
        "y_train = np.expand_dims(y_train, axis=1)"
      ],
      "execution_count": 3,
      "outputs": []
    },
    {
      "cell_type": "code",
      "metadata": {
        "id": "bgxVnIJ5PmGX"
      },
      "source": [
        "# similarly let's chunk out the data for test\n",
        "X_test = []\n",
        "y_test = []\n",
        "\n",
        "for i in range(100,150):\n",
        "    X_test.append(squares[i:i+sequence_len])\n",
        "    y_test.append(squares[i+sequence_len])\n",
        "  \n",
        "X_test = np.array(X_test)\n",
        "X_test = np.expand_dims(X_test, axis=2)\n",
        "\n",
        "y_test = np.array(y_test)\n",
        "y_test = np.expand_dims(y_test, axis=1)"
      ],
      "execution_count": 4,
      "outputs": []
    },
    {
      "cell_type": "code",
      "metadata": {
        "colab": {
          "base_uri": "https://localhost:8080/"
        },
        "id": "o37ixIANXcQe",
        "outputId": "a9c57f03-65cf-45e4-e415-0404f5d57a7f"
      },
      "source": [
        "# build the model\n",
        "model = Sequential()\n",
        "model.add(SimpleRNN(units=16, input_shape=(50,1), activation=\"relu\"))\n",
        "model.add(Dense(8, activation=\"relu\")) \n",
        "model.add(Dense(1))\n",
        "model.compile(loss='mean_squared_error', optimizer='rmsprop')\n",
        "model.summary()"
      ],
      "execution_count": 10,
      "outputs": [
        {
          "output_type": "stream",
          "text": [
            "Model: \"sequential_1\"\n",
            "_________________________________________________________________\n",
            "Layer (type)                 Output Shape              Param #   \n",
            "=================================================================\n",
            "simple_rnn_1 (SimpleRNN)     (None, 16)                288       \n",
            "_________________________________________________________________\n",
            "dense_2 (Dense)              (None, 8)                 136       \n",
            "_________________________________________________________________\n",
            "dense_3 (Dense)              (None, 1)                 9         \n",
            "=================================================================\n",
            "Total params: 433\n",
            "Trainable params: 433\n",
            "Non-trainable params: 0\n",
            "_________________________________________________________________\n"
          ],
          "name": "stdout"
        }
      ]
    },
    {
      "cell_type": "code",
      "metadata": {
        "colab": {
          "base_uri": "https://localhost:8080/"
        },
        "id": "kFvJ0N7EAdsm",
        "outputId": "931ab32f-e384-411a-f488-6cf9bbaa1bad"
      },
      "source": [
        "# train the model\n",
        "\n",
        "model.fit(X_train,y_train, epochs=200, verbose=2)"
      ],
      "execution_count": 11,
      "outputs": [
        {
          "output_type": "stream",
          "text": [
            "Epoch 1/200\n",
            "4/4 - 1s - loss: 71209736.0000\n",
            "Epoch 2/200\n",
            "4/4 - 0s - loss: 43110688.0000\n",
            "Epoch 3/200\n",
            "4/4 - 0s - loss: 19061282.0000\n",
            "Epoch 4/200\n",
            "4/4 - 0s - loss: 5488354.0000\n",
            "Epoch 5/200\n",
            "4/4 - 0s - loss: 702669.6250\n",
            "Epoch 6/200\n",
            "4/4 - 0s - loss: 53791.5117\n",
            "Epoch 7/200\n",
            "4/4 - 0s - loss: 21300.2031\n",
            "Epoch 8/200\n",
            "4/4 - 0s - loss: 21033.3320\n",
            "Epoch 9/200\n",
            "4/4 - 0s - loss: 21522.9297\n",
            "Epoch 10/200\n",
            "4/4 - 0s - loss: 22526.5176\n",
            "Epoch 11/200\n",
            "4/4 - 0s - loss: 26664.6094\n",
            "Epoch 12/200\n",
            "4/4 - 0s - loss: 23777.5293\n",
            "Epoch 13/200\n",
            "4/4 - 0s - loss: 22904.1875\n",
            "Epoch 14/200\n",
            "4/4 - 0s - loss: 21086.8691\n",
            "Epoch 15/200\n",
            "4/4 - 0s - loss: 25017.2305\n",
            "Epoch 16/200\n",
            "4/4 - 0s - loss: 219748.0781\n",
            "Epoch 17/200\n",
            "4/4 - 0s - loss: 25882.9609\n",
            "Epoch 18/200\n",
            "4/4 - 0s - loss: 123251.0312\n",
            "Epoch 19/200\n",
            "4/4 - 0s - loss: 289973.9062\n",
            "Epoch 20/200\n",
            "4/4 - 0s - loss: 23278.7480\n",
            "Epoch 21/200\n",
            "4/4 - 0s - loss: 53513.0547\n",
            "Epoch 22/200\n",
            "4/4 - 0s - loss: 27209.3066\n",
            "Epoch 23/200\n",
            "4/4 - 0s - loss: 206681.4844\n",
            "Epoch 24/200\n",
            "4/4 - 0s - loss: 79533.3750\n",
            "Epoch 25/200\n",
            "4/4 - 0s - loss: 44273.3438\n",
            "Epoch 26/200\n",
            "4/4 - 0s - loss: 245794.3438\n",
            "Epoch 27/200\n",
            "4/4 - 0s - loss: 216352.0625\n",
            "Epoch 28/200\n",
            "4/4 - 0s - loss: 22614.5000\n",
            "Epoch 29/200\n",
            "4/4 - 0s - loss: 17909.4102\n",
            "Epoch 30/200\n",
            "4/4 - 0s - loss: 40804.4219\n",
            "Epoch 31/200\n",
            "4/4 - 0s - loss: 272056.0312\n",
            "Epoch 32/200\n",
            "4/4 - 0s - loss: 86143.4922\n",
            "Epoch 33/200\n",
            "4/4 - 0s - loss: 21092.9766\n",
            "Epoch 34/200\n",
            "4/4 - 0s - loss: 74885.5234\n",
            "Epoch 35/200\n",
            "4/4 - 0s - loss: 114449.8984\n",
            "Epoch 36/200\n",
            "4/4 - 0s - loss: 16064.2666\n",
            "Epoch 37/200\n",
            "4/4 - 0s - loss: 69856.5703\n",
            "Epoch 38/200\n",
            "4/4 - 0s - loss: 393274.1875\n",
            "Epoch 39/200\n",
            "4/4 - 0s - loss: 7683.1431\n",
            "Epoch 40/200\n",
            "4/4 - 0s - loss: 40925.1914\n",
            "Epoch 41/200\n",
            "4/4 - 0s - loss: 91842.3906\n",
            "Epoch 42/200\n",
            "4/4 - 0s - loss: 60458.2266\n",
            "Epoch 43/200\n",
            "4/4 - 0s - loss: 18582.5312\n",
            "Epoch 44/200\n",
            "4/4 - 0s - loss: 64708.6133\n",
            "Epoch 45/200\n",
            "4/4 - 0s - loss: 123855.5703\n",
            "Epoch 46/200\n",
            "4/4 - 0s - loss: 4736.7261\n",
            "Epoch 47/200\n",
            "4/4 - 0s - loss: 7079.8350\n",
            "Epoch 48/200\n",
            "4/4 - 0s - loss: 147613.9531\n",
            "Epoch 49/200\n",
            "4/4 - 0s - loss: 74100.1719\n",
            "Epoch 50/200\n",
            "4/4 - 0s - loss: 3779.2949\n",
            "Epoch 51/200\n",
            "4/4 - 0s - loss: 25490.7383\n",
            "Epoch 52/200\n",
            "4/4 - 0s - loss: 196531.0000\n",
            "Epoch 53/200\n",
            "4/4 - 0s - loss: 44735.0703\n",
            "Epoch 54/200\n",
            "4/4 - 0s - loss: 14195.9346\n",
            "Epoch 55/200\n",
            "4/4 - 0s - loss: 10122.0342\n",
            "Epoch 56/200\n",
            "4/4 - 0s - loss: 46108.2617\n",
            "Epoch 57/200\n",
            "4/4 - 0s - loss: 200233.8594\n",
            "Epoch 58/200\n",
            "4/4 - 0s - loss: 23137.7676\n",
            "Epoch 59/200\n",
            "4/4 - 0s - loss: 3328.7256\n",
            "Epoch 60/200\n",
            "4/4 - 0s - loss: 10509.5078\n",
            "Epoch 61/200\n",
            "4/4 - 0s - loss: 192643.3438\n",
            "Epoch 62/200\n",
            "4/4 - 0s - loss: 7499.9805\n",
            "Epoch 63/200\n",
            "4/4 - 0s - loss: 10232.7861\n",
            "Epoch 64/200\n",
            "4/4 - 0s - loss: 34166.6641\n",
            "Epoch 65/200\n",
            "4/4 - 0s - loss: 269109.0625\n",
            "Epoch 66/200\n",
            "4/4 - 0s - loss: 3683.2856\n",
            "Epoch 67/200\n",
            "4/4 - 0s - loss: 3734.0649\n",
            "Epoch 68/200\n",
            "4/4 - 0s - loss: 2681.9377\n",
            "Epoch 69/200\n",
            "4/4 - 0s - loss: 103072.0469\n",
            "Epoch 70/200\n",
            "4/4 - 0s - loss: 80153.7422\n",
            "Epoch 71/200\n",
            "4/4 - 0s - loss: 4221.1870\n",
            "Epoch 72/200\n",
            "4/4 - 0s - loss: 5763.0737\n",
            "Epoch 73/200\n",
            "4/4 - 0s - loss: 6121.8262\n",
            "Epoch 74/200\n",
            "4/4 - 0s - loss: 50563.1953\n",
            "Epoch 75/200\n",
            "4/4 - 0s - loss: 57808.8008\n",
            "Epoch 76/200\n",
            "4/4 - 0s - loss: 62696.1602\n",
            "Epoch 77/200\n",
            "4/4 - 0s - loss: 9479.2266\n",
            "Epoch 78/200\n",
            "4/4 - 0s - loss: 71725.2188\n",
            "Epoch 79/200\n",
            "4/4 - 0s - loss: 65216.5664\n",
            "Epoch 80/200\n",
            "4/4 - 0s - loss: 35784.6445\n",
            "Epoch 81/200\n",
            "4/4 - 0s - loss: 19190.5625\n",
            "Epoch 82/200\n",
            "4/4 - 0s - loss: 85961.8203\n",
            "Epoch 83/200\n",
            "4/4 - 0s - loss: 118472.1094\n",
            "Epoch 84/200\n",
            "4/4 - 0s - loss: 2685.7576\n",
            "Epoch 85/200\n",
            "4/4 - 0s - loss: 2052.0688\n",
            "Epoch 86/200\n",
            "4/4 - 0s - loss: 2121.5403\n",
            "Epoch 87/200\n",
            "4/4 - 0s - loss: 161979.0469\n",
            "Epoch 88/200\n",
            "4/4 - 0s - loss: 171277.9062\n",
            "Epoch 89/200\n",
            "4/4 - 0s - loss: 2453.2656\n",
            "Epoch 90/200\n",
            "4/4 - 0s - loss: 1784.7661\n",
            "Epoch 91/200\n",
            "4/4 - 0s - loss: 2382.1577\n",
            "Epoch 92/200\n",
            "4/4 - 0s - loss: 67621.3125\n",
            "Epoch 93/200\n",
            "4/4 - 0s - loss: 258146.2344\n",
            "Epoch 94/200\n",
            "4/4 - 0s - loss: 5125.9536\n",
            "Epoch 95/200\n",
            "4/4 - 0s - loss: 4497.9805\n",
            "Epoch 96/200\n",
            "4/4 - 0s - loss: 4545.3364\n",
            "Epoch 97/200\n",
            "4/4 - 0s - loss: 12063.7695\n",
            "Epoch 98/200\n",
            "4/4 - 0s - loss: 152901.2188\n",
            "Epoch 99/200\n",
            "4/4 - 0s - loss: 17026.9062\n",
            "Epoch 100/200\n",
            "4/4 - 0s - loss: 5762.9785\n",
            "Epoch 101/200\n",
            "4/4 - 0s - loss: 59458.8711\n",
            "Epoch 102/200\n",
            "4/4 - 0s - loss: 20144.8574\n",
            "Epoch 103/200\n",
            "4/4 - 0s - loss: 131963.1562\n",
            "Epoch 104/200\n",
            "4/4 - 0s - loss: 57709.1445\n",
            "Epoch 105/200\n",
            "4/4 - 0s - loss: 26090.8301\n",
            "Epoch 106/200\n",
            "4/4 - 0s - loss: 3285.0984\n",
            "Epoch 107/200\n",
            "4/4 - 0s - loss: 48838.3008\n",
            "Epoch 108/200\n",
            "4/4 - 0s - loss: 32200.4746\n",
            "Epoch 109/200\n",
            "4/4 - 0s - loss: 146934.4062\n",
            "Epoch 110/200\n",
            "4/4 - 0s - loss: 27509.4219\n",
            "Epoch 111/200\n",
            "4/4 - 0s - loss: 78801.0469\n",
            "Epoch 112/200\n",
            "4/4 - 0s - loss: 176168.6875\n",
            "Epoch 113/200\n",
            "4/4 - 0s - loss: 1951.6790\n",
            "Epoch 114/200\n",
            "4/4 - 0s - loss: 1770.5444\n",
            "Epoch 115/200\n",
            "4/4 - 0s - loss: 10488.8076\n",
            "Epoch 116/200\n",
            "4/4 - 0s - loss: 224813.0625\n",
            "Epoch 117/200\n",
            "4/4 - 0s - loss: 1241.9146\n",
            "Epoch 118/200\n",
            "4/4 - 0s - loss: 1631.0913\n",
            "Epoch 119/200\n",
            "4/4 - 0s - loss: 18857.2266\n",
            "Epoch 120/200\n",
            "4/4 - 0s - loss: 164948.7969\n",
            "Epoch 121/200\n",
            "4/4 - 0s - loss: 59014.8867\n",
            "Epoch 122/200\n",
            "4/4 - 0s - loss: 8509.0352\n",
            "Epoch 123/200\n",
            "4/4 - 0s - loss: 1687.4341\n",
            "Epoch 124/200\n",
            "4/4 - 0s - loss: 50794.5352\n",
            "Epoch 125/200\n",
            "4/4 - 0s - loss: 34430.6406\n",
            "Epoch 126/200\n",
            "4/4 - 0s - loss: 82440.5859\n",
            "Epoch 127/200\n",
            "4/4 - 0s - loss: 58402.3164\n",
            "Epoch 128/200\n",
            "4/4 - 0s - loss: 9750.7646\n",
            "Epoch 129/200\n",
            "4/4 - 0s - loss: 30737.8301\n",
            "Epoch 130/200\n",
            "4/4 - 0s - loss: 8526.1660\n",
            "Epoch 131/200\n",
            "4/4 - 0s - loss: 85669.0391\n",
            "Epoch 132/200\n",
            "4/4 - 0s - loss: 99000.9219\n",
            "Epoch 133/200\n",
            "4/4 - 0s - loss: 12368.8750\n",
            "Epoch 134/200\n",
            "4/4 - 0s - loss: 14200.9658\n",
            "Epoch 135/200\n",
            "4/4 - 0s - loss: 21095.0391\n",
            "Epoch 136/200\n",
            "4/4 - 0s - loss: 44810.0586\n",
            "Epoch 137/200\n",
            "4/4 - 0s - loss: 81274.5391\n",
            "Epoch 138/200\n",
            "4/4 - 0s - loss: 49991.7812\n",
            "Epoch 139/200\n",
            "4/4 - 0s - loss: 101591.8984\n",
            "Epoch 140/200\n",
            "4/4 - 0s - loss: 46581.4062\n",
            "Epoch 141/200\n",
            "4/4 - 0s - loss: 23895.4043\n",
            "Epoch 142/200\n",
            "4/4 - 0s - loss: 117314.6875\n",
            "Epoch 143/200\n",
            "4/4 - 0s - loss: 6299.4019\n",
            "Epoch 144/200\n",
            "4/4 - 0s - loss: 59935.1641\n",
            "Epoch 145/200\n",
            "4/4 - 0s - loss: 17486.3750\n",
            "Epoch 146/200\n",
            "4/4 - 0s - loss: 23631.6777\n",
            "Epoch 147/200\n",
            "4/4 - 0s - loss: 80343.3750\n",
            "Epoch 148/200\n",
            "4/4 - 0s - loss: 88247.8984\n",
            "Epoch 149/200\n",
            "4/4 - 0s - loss: 62696.9414\n",
            "Epoch 150/200\n",
            "4/4 - 0s - loss: 17375.0859\n",
            "Epoch 151/200\n",
            "4/4 - 0s - loss: 3469.8076\n",
            "Epoch 152/200\n",
            "4/4 - 0s - loss: 26920.6230\n",
            "Epoch 153/200\n",
            "4/4 - 0s - loss: 129266.3438\n",
            "Epoch 154/200\n",
            "4/4 - 0s - loss: 3778.6782\n",
            "Epoch 155/200\n",
            "4/4 - 0s - loss: 8370.4453\n",
            "Epoch 156/200\n",
            "4/4 - 0s - loss: 21779.4082\n",
            "Epoch 157/200\n",
            "4/4 - 0s - loss: 64701.2656\n",
            "Epoch 158/200\n",
            "4/4 - 0s - loss: 29593.5156\n",
            "Epoch 159/200\n",
            "4/4 - 0s - loss: 3640.4795\n",
            "Epoch 160/200\n",
            "4/4 - 0s - loss: 41387.8594\n",
            "Epoch 161/200\n",
            "4/4 - 0s - loss: 47459.3633\n",
            "Epoch 162/200\n",
            "4/4 - 0s - loss: 9055.4316\n",
            "Epoch 163/200\n",
            "4/4 - 0s - loss: 17536.5801\n",
            "Epoch 164/200\n",
            "4/4 - 0s - loss: 126030.1875\n",
            "Epoch 165/200\n",
            "4/4 - 0s - loss: 4545.3691\n",
            "Epoch 166/200\n",
            "4/4 - 0s - loss: 22424.7129\n",
            "Epoch 167/200\n",
            "4/4 - 0s - loss: 70556.4766\n",
            "Epoch 168/200\n",
            "4/4 - 0s - loss: 66891.5625\n",
            "Epoch 169/200\n",
            "4/4 - 0s - loss: 11741.9473\n",
            "Epoch 170/200\n",
            "4/4 - 0s - loss: 21236.0684\n",
            "Epoch 171/200\n",
            "4/4 - 0s - loss: 49298.3047\n",
            "Epoch 172/200\n",
            "4/4 - 0s - loss: 49752.2812\n",
            "Epoch 173/200\n",
            "4/4 - 0s - loss: 73095.2188\n",
            "Epoch 174/200\n",
            "4/4 - 0s - loss: 5669.1445\n",
            "Epoch 175/200\n",
            "4/4 - 0s - loss: 2875.7410\n",
            "Epoch 176/200\n",
            "4/4 - 0s - loss: 6298.3154\n",
            "Epoch 177/200\n",
            "4/4 - 0s - loss: 120868.7891\n",
            "Epoch 178/200\n",
            "4/4 - 0s - loss: 4027.0967\n",
            "Epoch 179/200\n",
            "4/4 - 0s - loss: 8440.5234\n",
            "Epoch 180/200\n",
            "4/4 - 0s - loss: 70340.4297\n",
            "Epoch 181/200\n",
            "4/4 - 0s - loss: 28744.9297\n",
            "Epoch 182/200\n",
            "4/4 - 0s - loss: 61857.2734\n",
            "Epoch 183/200\n",
            "4/4 - 0s - loss: 22809.8145\n",
            "Epoch 184/200\n",
            "4/4 - 0s - loss: 11818.2861\n",
            "Epoch 185/200\n",
            "4/4 - 0s - loss: 66195.2891\n",
            "Epoch 186/200\n",
            "4/4 - 0s - loss: 58080.2852\n",
            "Epoch 187/200\n",
            "4/4 - 0s - loss: 81987.6797\n",
            "Epoch 188/200\n",
            "4/4 - 0s - loss: 1738.5015\n",
            "Epoch 189/200\n",
            "4/4 - 0s - loss: 4113.2290\n",
            "Epoch 190/200\n",
            "4/4 - 0s - loss: 103706.0781\n",
            "Epoch 191/200\n",
            "4/4 - 0s - loss: 4257.9453\n",
            "Epoch 192/200\n",
            "4/4 - 0s - loss: 15031.3887\n",
            "Epoch 193/200\n",
            "4/4 - 0s - loss: 24383.0273\n",
            "Epoch 194/200\n",
            "4/4 - 0s - loss: 37507.5078\n",
            "Epoch 195/200\n",
            "4/4 - 0s - loss: 113081.0938\n",
            "Epoch 196/200\n",
            "4/4 - 0s - loss: 3667.6509\n",
            "Epoch 197/200\n",
            "4/4 - 0s - loss: 1549.0961\n",
            "Epoch 198/200\n",
            "4/4 - 0s - loss: 58687.0117\n",
            "Epoch 199/200\n",
            "4/4 - 0s - loss: 79964.8828\n",
            "Epoch 200/200\n",
            "4/4 - 0s - loss: 3865.4597\n"
          ],
          "name": "stdout"
        },
        {
          "output_type": "execute_result",
          "data": {
            "text/plain": [
              "<tensorflow.python.keras.callbacks.History at 0x7f879ebc7650>"
            ]
          },
          "metadata": {
            "tags": []
          },
          "execution_count": 11
        }
      ]
    },
    {
      "cell_type": "code",
      "metadata": {
        "id": "3v6PAfPzqQi8"
      },
      "source": [
        "from matplotlib import pyplot as plt"
      ],
      "execution_count": 7,
      "outputs": []
    },
    {
      "cell_type": "code",
      "metadata": {
        "colab": {
          "base_uri": "https://localhost:8080/",
          "height": 282
        },
        "id": "fXZMF95cEQTv",
        "outputId": "1fcf720f-905c-4c34-fc96-b3a684a38e9f"
      },
      "source": [
        "# plot the results in train\n",
        "train_predict = model.predict(X_train)\n",
        "plt.plot(y_train[:], 'r')\n",
        "plt.plot(train_predict[:],'b')"
      ],
      "execution_count": 12,
      "outputs": [
        {
          "output_type": "execute_result",
          "data": {
            "text/plain": [
              "[<matplotlib.lines.Line2D at 0x7f879d91e750>]"
            ]
          },
          "metadata": {
            "tags": []
          },
          "execution_count": 12
        },
        {
          "output_type": "display_data",
          "data": {
            "image/png": "[encoded data removed]",
            "text/plain": [
              "<Figure size 432x288 with 1 Axes>"
            ]
          },
          "metadata": {
            "tags": [],
            "needs_background": "light"
          }
        }
      ]
    },
    {
      "cell_type": "code",
      "metadata": {
        "colab": {
          "base_uri": "https://localhost:8080/",
          "height": 282
        },
        "id": "nByxlhuuPM93",
        "outputId": "a519f466-2d80-4884-b519-0440a5bf2d0f"
      },
      "source": [
        "# plot the results in test\n",
        "test_predict= model.predict(X_test)\n",
        "plt.plot(y_test[:], 'r')\n",
        "plt.plot(test_predict[:],'b')"
      ],
      "execution_count": 13,
      "outputs": [
        {
          "output_type": "execute_result",
          "data": {
            "text/plain": [
              "[<matplotlib.lines.Line2D at 0x7f879d88ee50>]"
            ]
          },
          "metadata": {
            "tags": []
          },
          "execution_count": 13
        },
        {
          "output_type": "display_data",
          "data": {
            "image/png": "[encoded data removed]",
            "text/plain": [
              "<Figure size 432x288 with 1 Axes>"
            ]
          },
          "metadata": {
            "tags": [],
            "needs_background": "light"
          }
        }
      ]
    },
    {
      "cell_type": "code",
      "metadata": {
        "id": "zhtZgI-4FeGg"
      },
      "source": [
        ""
      ],
      "execution_count": 59,
      "outputs": []
    },
    {
      "cell_type": "code",
      "metadata": {
        "id": "CO3oBMOoF1Cf"
      },
      "source": [
        ""
      ],
      "execution_count": 20,
      "outputs": []
    },
    {
      "cell_type": "code",
      "metadata": {
        "id": "mPhN9sk2GcSE"
      },
      "source": [
        ""
      ],
      "execution_count": 31,
      "outputs": []
    },
    {
      "cell_type": "code",
      "metadata": {
        "id": "hNYzb5p-qcwM"
      },
      "source": [
        ""
      ],
      "execution_count": 20,
      "outputs": []
    },
    {
      "cell_type": "code",
      "metadata": {
        "id": "Claip8DkVIpB"
      },
      "source": [
        ""
      ],
      "execution_count": 20,
      "outputs": []
    },
    {
      "cell_type": "code",
      "metadata": {
        "id": "2NYGrgV9XtjS"
      },
      "source": [
        ""
      ],
      "execution_count": 16,
      "outputs": []
    },
    {
      "cell_type": "code",
      "metadata": {
        "id": "erZ5sXjpp3Ys"
      },
      "source": [
        ""
      ],
      "execution_count": null,
      "outputs": []
    }
  ]
}