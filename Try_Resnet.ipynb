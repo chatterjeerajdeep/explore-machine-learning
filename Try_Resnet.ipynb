{
  "nbformat": 4,
  "nbformat_minor": 0,
  "metadata": {
    "colab": {
      "name": "Untitled0.ipynb",
      "provenance": [],
      "collapsed_sections": [],
      "authorship_tag": "ABX9TyMnjW72bAuT8WG7maqE/Orf",
      "include_colab_link": true
    },
    "kernelspec": {
      "name": "python3",
      "display_name": "Python 3"
    },
    "language_info": {
      "name": "python"
    },
    "accelerator": "GPU"
  },
  "cells": [
    {
      "cell_type": "markdown",
      "metadata": {
        "id": "view-in-github",
        "colab_type": "text"
      },
      "source": [
        "<a href=\"https://colab.research.google.com/github/chatterjeerajdeep/explore-machine-learning/blob/main/Try_Resnet.ipynb\" target=\"_parent\"><img src=\"https://colab.research.google.com/assets/colab-badge.svg\" alt=\"Open In Colab\"/></a>"
      ]
    },
    {
      "cell_type": "code",
      "metadata": {
        "id": "WF__FTjnrM99"
      },
      "source": [
        "from tensorflow.keras.applications.resnet50 import ResNet50\n",
        "from tensorflow.keras.optimizers import Adam\n",
        "from tensorflow.keras.preprocessing.image import ImageDataGenerator\n",
        "from keras.layers import Dense, Dropout, GlobalAveragePooling2D\n",
        "from keras.models import Model,load_model\n",
        "from tensorflow.keras.callbacks import ModelCheckpoint\n",
        "from keras.callbacks import EarlyStopping\n",
        "from matplotlib import pyplot as plt"
      ],
      "execution_count": 1,
      "outputs": []
    },
    {
      "cell_type": "code",
      "metadata": {
        "id": "zACfz-OgrRdf"
      },
      "source": [
        "img_height, img_width = (48,48)\n",
        "\n",
        "def load_data(train_dir, validate_dir, img_height, img_width):\n",
        "    datagen = ImageDataGenerator()\n",
        "    train_it = datagen.flow_from_directory(train_dir,class_mode='categorical', batch_size=32)\n",
        "    validate_it = datagen.flow_from_directory(validate_dir,class_mode='categorical', batch_size=32)\n",
        "    label_map = (train_it.class_indices)\n",
        "\n",
        "    return train_it, validate_it, label_map"
      ],
      "execution_count": 2,
      "outputs": []
    },
    {
      "cell_type": "code",
      "metadata": {
        "colab": {
          "base_uri": "https://localhost:8080/"
        },
        "id": "DjvYpPEyrfgE",
        "outputId": "e7671344-9df2-4873-cadb-83b969b1e010"
      },
      "source": [
        "train_it, validate_it, label_map = load_data(train_dir=\"/content/train\", validate_dir=\"/content/test\", img_height=img_height, img_width=img_width)"
      ],
      "execution_count": 3,
      "outputs": [
        {
          "output_type": "stream",
          "text": [
            "Found 28709 images belonging to 7 classes.\n",
            "Found 7178 images belonging to 7 classes.\n"
          ],
          "name": "stdout"
        }
      ]
    },
    {
      "cell_type": "code",
      "metadata": {
        "id": "jsbbm0DFrjHu"
      },
      "source": [
        "base_model = ResNet50(weights= None, include_top=False, input_shape= (img_height,img_width,3))"
      ],
      "execution_count": 4,
      "outputs": []
    },
    {
      "cell_type": "code",
      "metadata": {
        "id": "N0Msz8yHrliR"
      },
      "source": [
        "x = base_model.output\n",
        "x = GlobalAveragePooling2D()(x)\n",
        "x = Dropout(0.7)(x)\n",
        "predictions = Dense(7, activation= 'softmax')(x)\n",
        "model = Model(inputs = base_model.input, outputs = predictions)"
      ],
      "execution_count": 5,
      "outputs": []
    },
    {
      "cell_type": "code",
      "metadata": {
        "id": "qNmIUhzerr-H"
      },
      "source": [
        "adam = Adam(lr=0.0001)\n",
        "cp_callback = ModelCheckpoint(filepath=\"/content/emotion_detector.h5\",monitor='val_accuracy',save_best_only=True, save_weights_only=False, verbose=1)\n",
        "cp_earlystop = EarlyStopping(monitor='val_accuracy', mode='max', verbose=1, patience=5)\n",
        "model.compile(optimizer= adam, loss='categorical_crossentropy', metrics=['accuracy'])"
      ],
      "execution_count": 7,
      "outputs": []
    },
    {
      "cell_type": "code",
      "metadata": {
        "colab": {
          "base_uri": "https://localhost:8080/"
        },
        "id": "XqU4HFZQru-H",
        "outputId": "096d80b3-924d-4b9f-fa88-596da4a0f5ca"
      },
      "source": [
        "model.fit(train_it, validation_data = validate_it,epochs = 30, verbose = 1, callbacks=[cp_callback, cp_earlystop])\n",
        "model.save(\"/content/emotion_detector.h5\")"
      ],
      "execution_count": 8,
      "outputs": [
        {
          "output_type": "stream",
          "text": [
            "Epoch 1/30\n",
            "898/898 [==============================] - 420s 457ms/step - loss: 2.5782 - accuracy: 0.2057 - val_loss: 2.2008 - val_accuracy: 0.2548\n",
            "\n",
            "Epoch 00001: val_accuracy improved from -inf to 0.25481, saving model to /content/emotion_detector.h5\n",
            "Epoch 2/30\n",
            "898/898 [==============================] - 408s 454ms/step - loss: 1.8947 - accuracy: 0.2546 - val_loss: 2.2254 - val_accuracy: 0.1544\n",
            "\n",
            "Epoch 00002: val_accuracy did not improve from 0.25481\n",
            "Epoch 3/30\n",
            "898/898 [==============================] - 409s 455ms/step - loss: 1.6261 - accuracy: 0.3733 - val_loss: 1.5485 - val_accuracy: 0.4157\n",
            "\n",
            "Epoch 00003: val_accuracy improved from 0.25481 to 0.41571, saving model to /content/emotion_detector.h5\n",
            "Epoch 4/30\n",
            "898/898 [==============================] - 408s 455ms/step - loss: 1.4349 - accuracy: 0.4547 - val_loss: 1.5639 - val_accuracy: 0.4004\n",
            "\n",
            "Epoch 00004: val_accuracy did not improve from 0.41571\n",
            "Epoch 5/30\n",
            "898/898 [==============================] - 408s 455ms/step - loss: 1.2867 - accuracy: 0.5134 - val_loss: 1.6551 - val_accuracy: 0.3770\n",
            "\n",
            "Epoch 00005: val_accuracy did not improve from 0.41571\n",
            "Epoch 6/30\n",
            "898/898 [==============================] - 408s 455ms/step - loss: 1.1875 - accuracy: 0.5557 - val_loss: 1.5556 - val_accuracy: 0.4043\n",
            "\n",
            "Epoch 00006: val_accuracy did not improve from 0.41571\n",
            "Epoch 7/30\n",
            "898/898 [==============================] - 408s 454ms/step - loss: 1.0777 - accuracy: 0.5991 - val_loss: 1.4219 - val_accuracy: 0.4745\n",
            "\n",
            "Epoch 00007: val_accuracy improved from 0.41571 to 0.47451, saving model to /content/emotion_detector.h5\n",
            "Epoch 8/30\n",
            "898/898 [==============================] - 408s 454ms/step - loss: 0.9744 - accuracy: 0.6376 - val_loss: 1.4415 - val_accuracy: 0.4709\n",
            "\n",
            "Epoch 00008: val_accuracy did not improve from 0.47451\n",
            "Epoch 9/30\n",
            "898/898 [==============================] - 408s 454ms/step - loss: 0.8583 - accuracy: 0.6878 - val_loss: 1.5118 - val_accuracy: 0.4694\n",
            "\n",
            "Epoch 00009: val_accuracy did not improve from 0.47451\n",
            "Epoch 10/30\n",
            "898/898 [==============================] - 408s 454ms/step - loss: 0.7314 - accuracy: 0.7299 - val_loss: 1.3880 - val_accuracy: 0.5107\n",
            "\n",
            "Epoch 00010: val_accuracy improved from 0.47451 to 0.51073, saving model to /content/emotion_detector.h5\n",
            "Epoch 11/30\n",
            "898/898 [==============================] - 408s 454ms/step - loss: 0.5782 - accuracy: 0.7937 - val_loss: 1.3579 - val_accuracy: 0.5595\n",
            "\n",
            "Epoch 00011: val_accuracy improved from 0.51073 to 0.55949, saving model to /content/emotion_detector.h5\n",
            "Epoch 12/30\n",
            "898/898 [==============================] - 408s 455ms/step - loss: 0.4300 - accuracy: 0.8480 - val_loss: 1.6466 - val_accuracy: 0.4639\n",
            "\n",
            "Epoch 00012: val_accuracy did not improve from 0.55949\n",
            "Epoch 13/30\n",
            "898/898 [==============================] - 409s 455ms/step - loss: 0.3494 - accuracy: 0.8741 - val_loss: 1.7852 - val_accuracy: 0.5407\n",
            "\n",
            "Epoch 00013: val_accuracy did not improve from 0.55949\n",
            "Epoch 14/30\n",
            "898/898 [==============================] - 408s 455ms/step - loss: 0.2530 - accuracy: 0.9140 - val_loss: 1.8147 - val_accuracy: 0.5347\n",
            "\n",
            "Epoch 00014: val_accuracy did not improve from 0.55949\n",
            "Epoch 15/30\n",
            "898/898 [==============================] - 408s 455ms/step - loss: 0.2162 - accuracy: 0.9269 - val_loss: 1.8099 - val_accuracy: 0.5499\n",
            "\n",
            "Epoch 00015: val_accuracy did not improve from 0.55949\n",
            "Epoch 16/30\n",
            "898/898 [==============================] - 408s 454ms/step - loss: 0.1865 - accuracy: 0.9363 - val_loss: 1.9043 - val_accuracy: 0.5393\n",
            "\n",
            "Epoch 00016: val_accuracy did not improve from 0.55949\n",
            "Epoch 00016: early stopping\n"
          ],
          "name": "stdout"
        }
      ]
    },
    {
      "cell_type": "code",
      "metadata": {
        "id": "JYVnPpAcr3NA",
        "colab": {
          "base_uri": "https://localhost:8080/",
          "height": 610
        },
        "outputId": "49aedf9a-0a32-464d-9dcb-8b409e098fdd"
      },
      "source": [
        "print(model.history.history)\n",
        "# summarize history for accuracy\n",
        "plt.plot(model.history.history['accuracy'])\n",
        "plt.plot(model.history.history['val_accuracy'])\n",
        "plt.title('model accuracy')\n",
        "plt.ylabel('accuracy')\n",
        "plt.xlabel('epoch')\n",
        "plt.legend(['train', 'test'], loc='upper left')\n",
        "plt.show()\n",
        "# summarize history for loss\n",
        "plt.plot(model.history.history['loss'])\n",
        "plt.plot(model.history.history['val_loss'])\n",
        "plt.title('model loss')\n",
        "plt.ylabel('loss')\n",
        "plt.xlabel('epoch')\n",
        "plt.legend(['train', 'test'], loc='upper left')\n",
        "plt.show()"
      ],
      "execution_count": 13,
      "outputs": [
        {
          "output_type": "stream",
          "text": [
            "{'loss': [2.1990103721618652, 1.8564176559448242, 1.5674312114715576, 1.3957598209381104, 1.2890088558197021, 1.1825127601623535, 1.0825954675674438, 0.9873828291893005, 0.8824878334999084, 0.7579326629638672, 0.609869122505188, 0.4707542657852173, 0.3686681091785431, 0.28512880206108093, 0.2433360069990158, 0.21835820376873016], 'accuracy': [0.22292660176753998, 0.26998502016067505, 0.3995262682437897, 0.4744853675365448, 0.5154132843017578, 0.5576648712158203, 0.5942387580871582, 0.6325542330741882, 0.674910306930542, 0.7211675643920898, 0.7802431583404541, 0.8323870301246643, 0.8674283623695374, 0.9009718298912048, 0.9162980318069458, 0.9240307807922363], 'val_loss': [2.2007675170898438, 2.2253715991973877, 1.5485209226608276, 1.5639466047286987, 1.6551274061203003, 1.5555962324142456, 1.421913743019104, 1.4415141344070435, 1.5118025541305542, 1.3879514932632446, 1.3578965663909912, 1.6465801000595093, 1.7852458953857422, 1.8147274255752563, 1.8099199533462524, 1.9043004512786865], 'val_accuracy': [0.2548063397407532, 0.1543605476617813, 0.41571468114852905, 0.400390088558197, 0.37698522210121155, 0.4042908847332001, 0.4745054244995117, 0.47088325023651123, 0.46935078501701355, 0.5107272267341614, 0.5594873428344727, 0.4639175236225128, 0.5406798720359802, 0.5346893072128296, 0.5498746037483215, 0.539286732673645]}\n"
          ],
          "name": "stdout"
        },
        {
          "output_type": "display_data",
          "data": {
            "image/png": "[encoded data removed]",
            "text/plain": [
              "<Figure size 432x288 with 1 Axes>"
            ]
          },
          "metadata": {
            "tags": [],
            "needs_background": "light"
          }
        },
        {
          "output_type": "display_data",
          "data": {
            "image/png": "[encoded data removed]",
            "text/plain": [
              "<Figure size 432x288 with 1 Axes>"
            ]
          },
          "metadata": {
            "tags": [],
            "needs_background": "light"
          }
        }
      ]
    },
    {
      "cell_type": "code",
      "metadata": {
        "id": "dFmeRHLTuTfM"
      },
      "source": [
        ""
      ],
      "execution_count": null,
      "outputs": []
    }
  ]
}